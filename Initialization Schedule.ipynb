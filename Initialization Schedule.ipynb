{
 "cells": [
  {
   "cell_type": "markdown",
   "metadata": {},
   "source": [
    "# Group Meetings Scheduler (Initialization)"
   ]
  },
  {
   "cell_type": "markdown",
   "metadata": {},
   "source": [
    "A script to determine speaking list and orders for the next 16 weeks. Every week the group will rotate between presenting: a recent arxiv paper, a classical paper and an order of magnitude problem.\n",
    "\n",
    "This notebook will generate the initial scheduler"
   ]
  },
  {
   "cell_type": "markdown",
   "metadata": {},
   "source": [
    "The group members (NP - not presenting):\n",
    "- Michele (NP)\n",
    "- Rachael\n",
    "- Daniela (NP)\n",
    "- Robert\n",
    "- Ruggero (NP)\n",
    "- Stephi\n",
    "- Alex\n",
    "- Keven\n",
    "- Adam\n",
    "- Benjamin\n",
    "- Oliver\n",
    "- Kristine (NP)\n",
    "\n",
    "Please let me know if you would like to change yourself to NP or P. We have in total 8 presenters on rotation.\n"
   ]
  },
  {
   "cell_type": "code",
   "execution_count": 4,
   "metadata": {},
   "outputs": [],
   "source": [
    "import numpy as np\n",
    "import pandas as pd\n",
    "from functions import *"
   ]
  },
  {
   "cell_type": "code",
   "execution_count": 7,
   "metadata": {},
   "outputs": [],
   "source": [
    "#Initialise Current Schedule as of 12/07\n",
    "\n",
    "#Initial Parameters\n",
    "Topics = {0:'Order of Mag.', 1:'Arxiv Paper', 2:'Classical Review'}\n",
    "Presenters = {0:'Stephi',1:'Keven',2:'Oliver',3:'Benjamin',4:'Rachael',5:'Alex',6:'Adam',7:'Robert'}\n",
    "Start_Date = pd.to_datetime('2018-7-12')\n",
    "Schedule_Length = 24     #Schedule is 24 weeks long\n",
    "\n",
    "#Constructing the Initial Schedule\n",
    "Topics_Roster = np.array([Topics[i] for i in np.arange(Schedule_Length)%len(Topics)])   #Rotating Topics\n",
    "Presenters_Roster = np.array([Presenters[i] for i in np.arange(Schedule_Length)%len(Presenters)])   #Rotating Speakers\n",
    "Schedule_Days = pd.date_range(Start_Date, periods=24, freq='W-Thu')\n",
    "\n",
    "Schedule = load_schedule(Schedule_Days, Topics_Roster, Presenters_Roster)\n",
    "\n",
    "#Schedule.to_csv('Initial_Schedule.csv')"
   ]
  },
  {
   "cell_type": "code",
   "execution_count": null,
   "metadata": {},
   "outputs": [],
   "source": []
  }
 ],
 "metadata": {
  "kernelspec": {
   "display_name": "Python 2",
   "language": "python",
   "name": "python2"
  },
  "language_info": {
   "codemirror_mode": {
    "name": "ipython",
    "version": 2
   },
   "file_extension": ".py",
   "mimetype": "text/x-python",
   "name": "python",
   "nbconvert_exporter": "python",
   "pygments_lexer": "ipython2",
   "version": "2.7.15"
  }
 },
 "nbformat": 4,
 "nbformat_minor": 2
}
