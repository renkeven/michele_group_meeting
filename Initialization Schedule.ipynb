{
 "cells": [
  {
   "cell_type": "markdown",
   "metadata": {},
   "source": [
    "# Group Meetings Scheduler (Initialization)"
   ]
  },
  {
   "cell_type": "markdown",
   "metadata": {},
   "source": [
    "A script to determine speaking list and orders for the next 16 weeks. Every week the group will rotate between presenting: a recent arxiv paper, a classical paper and an order of magnitude problem.\n",
    "\n",
    "This notebook will generate the initial scheduler"
   ]
  },
  {
   "cell_type": "markdown",
   "metadata": {},
   "source": [
    "The group members (NP - not presenting):\n",
    "- Michele (NP)\n",
    "- Stephi (NP)\n",
    "- Alex\n",
    "- Keven\n",
    "- Benjamin\n",
    "- Oliver\n",
    "- Matt\n",
    "- Nicha\n",
    "- Tom\n",
    "\n",
    "Please let me know if you would like to change yourself to NP or P. We have in total 6 presenters on rotation.\n"
   ]
  },
  {
   "cell_type": "code",
   "execution_count": 1,
   "metadata": {},
   "outputs": [],
   "source": [
    "import numpy as np\n",
    "import pandas as pd\n",
    "from functions import *\n",
    "\n",
    "#Seed this by year number to remove any arguments\n",
    "seed1 = np.random.RandomState(21072020)\n",
    "\n",
    "Presenters = {0:'Keven',1:'Alex',\n",
    "              2:'Nicha',3:'Benjamin',\n",
    "              4:'Oliver',5:'Matt',\n",
    "              6:'Tom'}\n"
   ]
  },
  {
   "cell_type": "code",
   "execution_count": 10,
   "metadata": {},
   "outputs": [
    {
     "name": "stdout",
     "output_type": "stream",
     "text": [
      "[4 6 1 3 2 0 5]\n",
      "                       Topic   Speaker\n",
      "Date                                  \n",
      "2020-07-31  Classical Review    Oliver\n",
      "2020-08-07     Order of Mag.       Tom\n",
      "2020-08-14       Arxiv Paper      Alex\n",
      "2020-08-21  Classical Review  Benjamin\n",
      "2020-08-28     Order of Mag.     Nicha\n",
      "2020-09-04       Arxiv Paper     Keven\n",
      "2020-09-11  Classical Review      Matt\n",
      "2020-09-18     Order of Mag.    Oliver\n",
      "2020-09-25       Arxiv Paper       Tom\n",
      "2020-10-02  Classical Review      Alex\n",
      "2020-10-09     Order of Mag.  Benjamin\n",
      "2020-10-16       Arxiv Paper     Nicha\n",
      "2020-10-23  Classical Review     Keven\n",
      "2020-10-30     Order of Mag.      Matt\n",
      "2020-11-06       Arxiv Paper    Oliver\n",
      "2020-11-13  Classical Review       Tom\n",
      "2020-11-20     Order of Mag.      Alex\n",
      "2020-11-27       Arxiv Paper  Benjamin\n",
      "2020-12-04  Classical Review     Nicha\n",
      "2020-12-11     Order of Mag.     Keven\n",
      "2020-12-18       Arxiv Paper      Matt\n"
     ]
    }
   ],
   "source": [
    "#Initialise Current Schedule as of 12/07\n",
    "#Rotated Schedule is the current rotation round for 24 weeks.\n",
    "#Involves all presenters presenting all 3 topics by the end of the rotation\n",
    "#This breaks down if Topics and Presenters are perfectly divisible. (Same presenter will present same topic)\n",
    "\n",
    "#Initial Parameters\n",
    "Topics = {1:'Order of Mag.', 2:'Arxiv Paper', 0:'Classical Review'}\n",
    "\n",
    "#Shuffle our presentation roster\n",
    "Shuffle = np.arange(len(Presenters))\n",
    "seed1.shuffle(Shuffle)\n",
    "#Shuffle = np.append(Shuffle,8)\n",
    "#--- Use manual order. Continuation of current order + additional speaker early on.\n",
    "\n",
    "Shuffle = np.array([4,6,1,3,2,0,5])\n",
    "\n",
    "#---\n",
    "print(Shuffle)\n",
    "\n",
    "Start_Date = pd.to_datetime('2020-7-27')\n",
    "\n",
    "Schedule_Length = 21     #Schedule is 20 + 5 weeks long\n",
    "\n",
    "#Constructing the Rotated Schedule\n",
    "Topics_Roster = np.array([Topics[i] for i in np.arange(Schedule_Length)%len(Topics)])   #Rotating Topics\n",
    "Presenters_Roster = np.array([Presenters[Shuffle[i]] for i in np.arange(Schedule_Length)%len(Presenters)])   #Rotating Speakers\n",
    "Schedule_Days = pd.date_range(Start_Date, periods=Schedule_Length, freq='W-Fri')\n",
    "\n",
    "Schedule = load_schedule(Schedule_Days, Topics_Roster, Presenters_Roster)\n",
    "\n",
    "Schedule.set_index('Date',inplace=True)\n",
    "\n",
    "print(Schedule)\n",
    "#Schedule.to_csv('Rotated_Schedule.csv')\n",
    "#Schedule.to_csv('Initial_Schedule2020S2.csv')\n",
    "\n",
    "#Manually pre-pend 09/08 and 16/08 to rotated roster.\n",
    "\n",
    "#Pre_dates = pd.date_range('2019-01-31', periods=1, freq='W-Thu')\n",
    "#Pre_presenters = np.array([Presenters[0]])\n",
    "#Pre_topics = np.array([Topics[1]])\n",
    "#Soon = pd.DataFrame({'Date':Pre_dates,'Topic':Pre_topics, 'Speaker':Pre_presenters})\n",
    "\n",
    "#Finalise initial data table\n",
    "#Soon = Soon.append(Schedule)\n",
    "#Soon = Soon.reset_index(drop=True)\n",
    "\n",
    "#Soon.to_csv('Initial_Schedule.csv')\n",
    "\n",
    "#print(Soon)"
   ]
  },
  {
   "cell_type": "code",
   "execution_count": 13,
   "metadata": {},
   "outputs": [
    {
     "name": "stdout",
     "output_type": "stream",
     "text": [
      "                       Topic   Speaker\n",
      "Date                                  \n",
      "2020-02-21       Arxiv Paper    Oliver\n",
      "2020-02-28     Order of Mag.      Alex\n",
      "2020-03-06  Classical Review     Nicha\n",
      "2020-03-13       Arxiv Paper  Benjamin\n",
      "2020-03-20     Order of Mag.      Matt\n",
      "2020-03-27  Classical Review     Keven\n",
      "2020-04-03       Arxiv Paper     Nicha\n",
      "2020-04-10     Order of Mag.    Oliver\n",
      "2020-04-17  Classical Review      Alex\n",
      "2020-04-24       Arxiv Paper     Keven\n",
      "2020-05-01     Order of Mag.  Benjamin\n",
      "2020-05-08  Classical Review      Matt\n",
      "2020-05-15       Arxiv Paper    Oliver\n",
      "2020-05-22     Order of Mag.      Alex\n",
      "2020-05-29  Classical Review     Nicha\n",
      "2020-06-05       Arxiv Paper      Matt\n",
      "2020-06-12     Order of Mag.     Keven\n",
      "2020-06-19  Classical Review  Benjamin\n"
     ]
    }
   ],
   "source": [
    "'''#Initialise Current Schedule for cyclic case. Presenters and topics are perfectly divisible\n",
    "#Split into groups of topics and cycle inside it.\n",
    "#Difference here is that 'Date' is now set an an index, use the np.roll function for a cyclic shift\n",
    "\n",
    "\n",
    "#Create Roster first - Assign Dates next\n",
    "\n",
    "\n",
    "#Initial Parameters\n",
    "Topics = {1:'Order of Mag.', 0:'Arxiv Paper', 2:'Classical Review'}\n",
    "#Presenters = {1:'Keven',3:'Stephi',6:'Robert',2:'Maryam',0:'Adam',4:'Benjamin',8:'Alex',7:'Oliver',5:'Matt'}\n",
    "\n",
    "#Shuffle our presentation roster, with Matt to present last\n",
    "Shuffle = np.arange(len(Presenters))\n",
    "seed1.shuffle(Shuffle)\n",
    "#print(Shuffle)\n",
    "\n",
    "Schedule_Length = len(Presenters)*3     #Schedule is 18 weeks long\n",
    "\n",
    "#Constructing the Rotated Schedule\n",
    "Topics_Roster = np.array([Topics[i] for i in np.arange(Schedule_Length)%len(Topics)])   #Rotating Topics\n",
    "Presenters_Roster = np.array([Presenters[Shuffle[i]] for i in np.arange(Schedule_Length)%len(Presenters)])   #Rotating Speakers\n",
    "\n",
    "Start_Date = pd.to_datetime('2020-2-21')\n",
    "Schedule_Days = pd.date_range(Start_Date, periods=Schedule_Length, freq='W-Fri')\n",
    "\n",
    "Schedule = load_schedule(Schedule_Days, Topics_Roster, Presenters_Roster)\n",
    "\n",
    "#print(Schedule)\n",
    "\n",
    "Schedule.set_index('Date',inplace=True)\n",
    "\n",
    "#Cycle full roster, split into groups of topic and cycle through that. There are 3 topics, and 3 subgroups inside a cycle.\n",
    "#Time between presentations ranges between 7-11 weeks.\n",
    "for i in range(3):    #Split into main group, it's 3 because we have 3 sets of 6 presenters\n",
    "    for j in range(3):     #Split into subgroups of topic\n",
    "        Schedule.iloc[len(Presenters)*i+3*j:len(Presenters)*i+3*j+3,1] = \\\n",
    "        np.roll(Schedule.iloc[len(Presenters)*i+3*j:len(Presenters)*i+3*j+3,1],i)\n",
    "\n",
    "print(Schedule)\n",
    "Schedule.to_csv('Initial_Schedule.csv')\n",
    "\n",
    "#Schedule.iloc[6:9,1] = np.roll(Schedule.iloc[6:9,1],1)'''"
   ]
  },
  {
   "cell_type": "code",
   "execution_count": null,
   "metadata": {},
   "outputs": [],
   "source": [
    "#Schedule[['Topic','Speaker']] = np.roll(Schedule[['Topic','Speaker']],1)\n",
    "#Schedule.iloc[6:9,1]='hello'\n",
    "#print(Schedule)"
   ]
  },
  {
   "cell_type": "code",
   "execution_count": null,
   "metadata": {},
   "outputs": [],
   "source": []
  },
  {
   "cell_type": "code",
   "execution_count": null,
   "metadata": {},
   "outputs": [],
   "source": []
  }
 ],
 "metadata": {
  "kernelspec": {
   "display_name": "Python 3",
   "language": "python",
   "name": "python3"
  },
  "language_info": {
   "codemirror_mode": {
    "name": "ipython",
    "version": 3
   },
   "file_extension": ".py",
   "mimetype": "text/x-python",
   "name": "python",
   "nbconvert_exporter": "python",
   "pygments_lexer": "ipython3",
   "version": "3.7.0"
  }
 },
 "nbformat": 4,
 "nbformat_minor": 2
}
