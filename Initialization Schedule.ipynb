{
 "cells": [
  {
   "cell_type": "markdown",
   "metadata": {},
   "source": [
    "# Group Meetings Scheduler (Initialization)"
   ]
  },
  {
   "cell_type": "markdown",
   "metadata": {},
   "source": [
    "A script to determine speaking list and orders for the next 16 weeks. Every week the group will rotate between presenting: a recent arxiv paper, a classical paper and an order of magnitude problem.\n",
    "\n",
    "This notebook will generate the initial scheduler"
   ]
  },
  {
   "cell_type": "markdown",
   "metadata": {},
   "source": [
    "The group members (NP - not presenting):\n",
    "- Michele (NP)\n",
    "- Rachael (NP)\n",
    "- Daniela (NP)\n",
    "- Robert\n",
    "- Ruggero (NP)\n",
    "- Stephi\n",
    "- Alex\n",
    "- Keven\n",
    "- Adam\n",
    "- Benjamin\n",
    "- Oliver\n",
    "- Kristine (NP)\n",
    "\n",
    "Please let me know if you would like to change yourself to NP or P. We have in total 8 presenters on rotation.\n"
   ]
  },
  {
   "cell_type": "code",
   "execution_count": 1,
   "metadata": {},
   "outputs": [],
   "source": [
    "import numpy as np\n",
    "import pandas as pd\n",
    "from functions import *"
   ]
  },
  {
   "cell_type": "code",
   "execution_count": 22,
   "metadata": {},
   "outputs": [],
   "source": [
    "#Initialise Current Schedule as of 12/07\n",
    "#Rotated Schedule is the current rotation round for 21 weeks.\n",
    "#Involves all presenters presenting all 3 topics by the end of the rotation\n",
    "\n",
    "#Initial Parameters\n",
    "Topics = {0:'Order of Mag.', 1:'Arxiv Paper', 2:'Classical Review'}\n",
    "Presenters = {0:'Keven',1:'Robert',2:'Stephi',3:'Adam',4:'Benjamin',5:'Alex',6:'Oliver'}\n",
    "Start_Date = pd.to_datetime('2018-8-23')\n",
    "Schedule_Length = 19     #Schedule is 21 weeks long\n",
    "\n",
    "#Constructing the Rotated Schedule\n",
    "Topics_Roster = np.array([Topics[i] for i in np.arange(Schedule_Length)%len(Topics)])   #Rotating Topics\n",
    "Presenters_Roster = np.array([Presenters[i] for i in np.arange(Schedule_Length)%len(Presenters)])   #Rotating Speakers\n",
    "Schedule_Days = pd.date_range(Start_Date, periods=Schedule_Length, freq='W-Thu')\n",
    "\n",
    "Schedule = load_schedule(Schedule_Days, Topics_Roster, Presenters_Roster)\n",
    "\n",
    "#print Schedule\n",
    "#Schedule.to_csv('Rotated_Schedule.csv')\n",
    "\n",
    "#Manually pre-pend 09/08 and 16/08 to rotated roster.\n",
    "Pre_dates = pd.date_range('2018-08-09', periods=2, freq='W-Thu')\n",
    "Pre_presenters = np.array([Presenters[5],Presenters[3]])\n",
    "Pre_topics = np.array([Topics[1],Topics[2]])\n",
    "Soon = pd.DataFrame({'Date':Pre_dates,'Topic':Pre_topics, 'Speaker':Pre_presenters})\n",
    "\n",
    "#Finalise initial data table\n",
    "Soon = Soon.append(Schedule)\n",
    "Soon = Soon.reset_index(drop=True)\n",
    "\n",
    "#Soon.to_csv('Initial_Schedule.csv')"
   ]
  },
  {
   "cell_type": "code",
   "execution_count": null,
   "metadata": {},
   "outputs": [],
   "source": []
  }
 ],
 "metadata": {
  "kernelspec": {
   "display_name": "Python 2",
   "language": "python",
   "name": "python2"
  },
  "language_info": {
   "codemirror_mode": {
    "name": "ipython",
    "version": 2
   },
   "file_extension": ".py",
   "mimetype": "text/x-python",
   "name": "python",
   "nbconvert_exporter": "python",
   "pygments_lexer": "ipython2",
   "version": "2.7.15"
  }
 },
 "nbformat": 4,
 "nbformat_minor": 2
}
