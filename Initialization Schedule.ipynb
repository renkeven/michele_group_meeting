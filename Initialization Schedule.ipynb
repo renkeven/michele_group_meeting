{
 "cells": [
  {
   "cell_type": "markdown",
   "metadata": {},
   "source": [
    "# Group Meetings Scheduler (Initialization)"
   ]
  },
  {
   "cell_type": "markdown",
   "metadata": {},
   "source": [
    "A script to determine speaking list and orders for the next 16 weeks. Every week the group will rotate between presenting: a recent arxiv paper, a classical paper and an order of magnitude problem.\n",
    "\n",
    "This notebook will generate the initial scheduler"
   ]
  },
  {
   "cell_type": "markdown",
   "metadata": {},
   "source": [
    "The group members (NP - not presenting):\n",
    "- Michele (NP)\n",
    "- Robert\n",
    "- Ruggero (NP)\n",
    "- Stephi (NP)\n",
    "- Alex\n",
    "- Keven\n",
    "- Adam\n",
    "- Benjamin\n",
    "- Oliver\n",
    "- Kristine (NP)\n",
    "- Matt\n",
    "- Maryam\n",
    "\n",
    "Please let me know if you would like to change yourself to NP or P. We have in total 8 presenters on rotation.\n"
   ]
  },
  {
   "cell_type": "code",
   "execution_count": 2,
   "metadata": {},
   "outputs": [],
   "source": [
    "import numpy as np\n",
    "import pandas as pd\n",
    "from functions import *"
   ]
  },
  {
   "cell_type": "code",
   "execution_count": 5,
   "metadata": {},
   "outputs": [
    {
     "name": "stdout",
     "output_type": "stream",
     "text": [
      "         Date             Topic   Speaker\n",
      "0  2019-02-07       Arxiv Paper    Oliver\n",
      "1  2019-02-14     Order of Mag.    Robert\n",
      "2  2019-02-21  Classical Review     Keven\n",
      "3  2019-02-28       Arxiv Paper  Benjamin\n",
      "4  2019-03-07     Order of Mag.    Maryam\n",
      "5  2019-03-14  Classical Review      Adam\n",
      "6  2019-03-21       Arxiv Paper      Alex\n",
      "7  2019-03-28     Order of Mag.      Matt\n",
      "8  2019-04-04  Classical Review    Oliver\n",
      "9  2019-04-11       Arxiv Paper    Robert\n",
      "10 2019-04-18     Order of Mag.     Keven\n",
      "11 2019-04-25  Classical Review  Benjamin\n",
      "12 2019-05-02       Arxiv Paper    Maryam\n",
      "13 2019-05-09     Order of Mag.      Adam\n",
      "14 2019-05-16  Classical Review      Alex\n",
      "15 2019-05-23       Arxiv Paper      Matt\n",
      "16 2019-05-30     Order of Mag.    Oliver\n",
      "17 2019-06-06  Classical Review    Robert\n",
      "18 2019-06-13       Arxiv Paper     Keven\n",
      "19 2019-06-20     Order of Mag.  Benjamin\n",
      "20 2019-06-27  Classical Review    Maryam\n",
      "21 2019-07-04       Arxiv Paper      Adam\n",
      "22 2019-07-11     Order of Mag.      Alex\n",
      "23 2019-07-18  Classical Review      Matt\n"
     ]
    }
   ],
   "source": [
    "#Initialise Current Schedule as of 12/07\n",
    "#Rotated Schedule is the current rotation round for 24 weeks.\n",
    "#Involves all presenters presenting all 3 topics by the end of the rotation\n",
    "#This breaks down if Topics and Presenters are perfectly divisible. (Same presenter will present same topic)\n",
    "\n",
    "#Seeded by the date I ran this list generator\n",
    "seed1 = np.random.RandomState(31012019)\n",
    "\n",
    "#Initial Parameters\n",
    "Topics = {1:'Order of Mag.', 0:'Arxiv Paper', 2:'Classical Review'}\n",
    "Presenters = {0:'Keven',1:'Robert',2:'Maryam',3:'Adam',4:'Benjamin',5:'Alex',6:'Oliver',7:'Matt'}\n",
    "\n",
    "#Shuffle our presentation roster\n",
    "Shuffle = np.arange(len(Presenters)-1)\n",
    "seed1.shuffle(Shuffle)\n",
    "Shuffle = np.append(Shuffle,7)\n",
    "#print(Shuffle)\n",
    "\n",
    "Start_Date = pd.to_datetime('2019-2-01')\n",
    "Schedule_Length = 24     #Schedule is 24 weeks long\n",
    "\n",
    "#Constructing the Rotated Schedule\n",
    "Topics_Roster = np.array([Topics[i] for i in np.arange(Schedule_Length)%len(Topics)])   #Rotating Topics\n",
    "Presenters_Roster = np.array([Presenters[Shuffle[i]] for i in np.arange(Schedule_Length)%len(Presenters)])   #Rotating Speakers\n",
    "Schedule_Days = pd.date_range(Start_Date, periods=Schedule_Length, freq='W-Thu')\n",
    "\n",
    "Schedule = load_schedule(Schedule_Days, Topics_Roster, Presenters_Roster)\n",
    "\n",
    "print(Schedule)\n",
    "#Schedule.to_csv('Rotated_Schedule.csv')\n",
    "Schedule.to_csv('Initial_Schedule.csv')\n",
    "\n",
    "#Manually pre-pend 09/08 and 16/08 to rotated roster.\n",
    "\n",
    "#Pre_dates = pd.date_range('2019-01-31', periods=1, freq='W-Thu')\n",
    "#Pre_presenters = np.array([Presenters[0]])\n",
    "#Pre_topics = np.array([Topics[1]])\n",
    "#Soon = pd.DataFrame({'Date':Pre_dates,'Topic':Pre_topics, 'Speaker':Pre_presenters})\n",
    "\n",
    "#Finalise initial data table\n",
    "#Soon = Soon.append(Schedule)\n",
    "#Soon = Soon.reset_index(drop=True)\n",
    "\n",
    "#Soon.to_csv('Initial_Schedule.csv')\n",
    "\n",
    "#print(Soon)"
   ]
  },
  {
   "cell_type": "code",
   "execution_count": null,
   "metadata": {},
   "outputs": [],
   "source": []
  },
  {
   "cell_type": "code",
   "execution_count": null,
   "metadata": {},
   "outputs": [],
   "source": []
  }
 ],
 "metadata": {
  "kernelspec": {
   "display_name": "Python 3",
   "language": "python",
   "name": "python3"
  },
  "language_info": {
   "codemirror_mode": {
    "name": "ipython",
    "version": 3
   },
   "file_extension": ".py",
   "mimetype": "text/x-python",
   "name": "python",
   "nbconvert_exporter": "python",
   "pygments_lexer": "ipython3",
   "version": "3.7.0"
  }
 },
 "nbformat": 4,
 "nbformat_minor": 2
}
