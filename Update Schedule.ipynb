{
 "cells": [
  {
   "cell_type": "code",
   "execution_count": 1,
   "metadata": {},
   "outputs": [],
   "source": [
    "import numpy as np\n",
    "import pandas as pd\n",
    "import datetime\n",
    "from functions import *"
   ]
  },
  {
   "cell_type": "code",
   "execution_count": null,
   "metadata": {},
   "outputs": [],
   "source": [
    "## Testing Region\n",
    "\n",
    "#Load_Init = pd.read_csv('Initial_Schedule.csv', index_col=0, parse_dates=['Date'])\n",
    "#First_Update = update_schedule(Load_Init)\n",
    "#First_Update.to_csv('updated_schedule.csv')\n",
    "#print Load_Init\n",
    "#print First_Update\n",
    "#First_Update.iloc[3:]\n"
   ]
  },
  {
   "cell_type": "markdown",
   "metadata": {},
   "source": [
    "# Examples:\n",
    "\n",
    "Tip: Keep things simple by updating before making new changes.\n",
    "\n",
    "Offset schedule by 1 week starting on the 30/08/2018.\n",
    "\n",
    " > Offset_Schedule(schedule,pd.to_datetime('2018-8-30'),1)\n",
    " \n",
    "Change date of meeting to Mondays ('0')\n",
    "\n",
    "> DoW_Schedule(schedule,0)"
   ]
  },
  {
   "cell_type": "code",
   "execution_count": 20,
   "metadata": {},
   "outputs": [
    {
     "name": "stdout",
     "output_type": "stream",
     "text": [
      "         Date   Speaker             Topic\n",
      "0  2018-08-09      Alex       Arxiv Paper\n",
      "1  2018-08-16      Adam  Classical Review\n",
      "2  2018-08-23     Keven     Order of Mag.\n",
      "3  2018-08-30    Robert       Arxiv Paper\n",
      "4  2018-09-06    Stephi  Classical Review\n",
      "5  2018-09-13      Adam     Order of Mag.\n",
      "6  2018-09-20  Benjamin       Arxiv Paper\n",
      "7  2018-09-27      Alex  Classical Review\n",
      "8  2018-10-04    Oliver     Order of Mag.\n",
      "9  2018-10-11     Keven       Arxiv Paper\n",
      "10 2018-10-18    Robert  Classical Review\n",
      "11 2018-10-25    Stephi     Order of Mag.\n",
      "12 2018-11-01      Adam       Arxiv Paper\n",
      "13 2018-11-08  Benjamin  Classical Review\n",
      "14 2018-11-15      Alex     Order of Mag.\n",
      "15 2018-11-22    Oliver       Arxiv Paper\n",
      "16 2018-11-29     Keven  Classical Review\n",
      "17 2018-12-06    Robert     Order of Mag.\n",
      "18 2018-12-13    Stephi       Arxiv Paper\n",
      "19 2018-12-20      Adam  Classical Review\n",
      "20 2018-12-27  Benjamin     Order of Mag.\n"
     ]
    }
   ],
   "source": [
    "#Initial Schedule\n",
    "#Refresh at start of new year when current day > 2018-12-27\n",
    "\n",
    "schedule = pd.read_csv('Initial_Schedule.csv', index_col=0, parse_dates=['Date'])\n",
    "\n",
    "print schedule"
   ]
  },
  {
   "cell_type": "code",
   "execution_count": 21,
   "metadata": {},
   "outputs": [
    {
     "name": "stdout",
     "output_type": "stream",
     "text": [
      "         Date   Speaker               Topic\n",
      "0  2018-10-25    Stephi  Paper (Sp.Request)\n",
      "1  2018-11-08    Oliver       Order of Mag.\n",
      "2  2018-11-15     Keven         Arxiv Paper\n",
      "3  2018-11-22    Robert    Classical Review\n",
      "4  2018-11-29    Stephi       Order of Mag.\n",
      "5  2018-12-06      Adam         Arxiv Paper\n",
      "6  2018-12-13  Benjamin    Classical Review\n",
      "7  2018-12-20      Alex       Order of Mag.\n",
      "8  2018-12-27    Oliver         Arxiv Paper\n",
      "9  2019-01-03     Keven    Classical Review\n",
      "10 2019-01-10    Robert       Order of Mag.\n",
      "11 2019-01-17    Stephi         Arxiv Paper\n",
      "12 2019-01-24      Adam    Classical Review\n",
      "13 2019-01-31  Benjamin       Order of Mag.\n",
      "14 2019-02-07      Alex         Arxiv Paper\n",
      "15 2019-02-14      Adam    Classical Review\n",
      "16 2019-02-21     Keven       Order of Mag.\n",
      "17 2019-02-28    Robert         Arxiv Paper\n",
      "18 2019-03-07    Stephi    Classical Review\n",
      "19 2019-03-14      Adam       Order of Mag.\n",
      "20 2019-03-21  Benjamin         Arxiv Paper\n",
      "21 2019-03-28      Alex    Classical Review\n"
     ]
    }
   ],
   "source": [
    "#Editing region\n",
    "schedule = Offset_Schedule(schedule,'2018-08-09',1)     #Meeting this week not run\n",
    "schedule = DoW_Schedule(schedule,4)                     #Schedule moved to Fridays 10AM                \n",
    "schedule = Offset_Schedule(schedule,'2018-09-28',1)     #Offsetting the Grand Final Public Holiday\n",
    "schedule = Offset_Schedule(schedule,'2018-10-05',1)     #Offsetting for the Monthly Astro3D meeting\n",
    "schedule = DoW_Schedule(schedule,3)                     #Schedule changed back to Thursday 1:30PM\n",
    "schedule = Add_Special_Replacement(schedule,'2018-10-25','Stephi','Paper (Sp.Request)')      #Special Req by Stephi\n",
    "schedule = Offset_Schedule(schedule,'2018-11-01',1)     #Offsetting as Michele is away\n",
    "\n",
    "schedule = update_schedule(schedule)  \n",
    "print schedule"
   ]
  },
  {
   "cell_type": "code",
   "execution_count": null,
   "metadata": {},
   "outputs": [],
   "source": [
    "#Run this when schedule is to liking\n",
    "\n",
    "#schedule.to_csv('updated_schedule.csv')"
   ]
  },
  {
   "cell_type": "code",
   "execution_count": null,
   "metadata": {},
   "outputs": [],
   "source": []
  }
 ],
 "metadata": {
  "kernelspec": {
   "display_name": "Python 2",
   "language": "python",
   "name": "python2"
  },
  "language_info": {
   "codemirror_mode": {
    "name": "ipython",
    "version": 2
   },
   "file_extension": ".py",
   "mimetype": "text/x-python",
   "name": "python",
   "nbconvert_exporter": "python",
   "pygments_lexer": "ipython2",
   "version": "2.7.15"
  }
 },
 "nbformat": 4,
 "nbformat_minor": 2
}
