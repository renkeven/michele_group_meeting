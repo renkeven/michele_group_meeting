{
 "cells": [
  {
   "cell_type": "code",
   "execution_count": 1,
   "metadata": {},
   "outputs": [],
   "source": [
    "import numpy as np\n",
    "import pandas as pd\n",
    "import datetime\n",
    "from functions import *"
   ]
  },
  {
   "cell_type": "code",
   "execution_count": null,
   "metadata": {},
   "outputs": [],
   "source": [
    "## Testing Region\n",
    "\n",
    "#Load_Init = pd.read_csv('Initial_Schedule.csv', index_col=0, parse_dates=['Date'])\n",
    "#First_Update = update_schedule(Load_Init)\n",
    "#First_Update.to_csv('updated_schedule.csv')\n",
    "#print Load_Init\n",
    "#print First_Update\n",
    "#First_Update.iloc[3:]\n"
   ]
  },
  {
   "cell_type": "markdown",
   "metadata": {},
   "source": [
    "# Examples:\n",
    "\n",
    "Tip: Keep things simple by updating before making new changes.\n",
    "\n",
    "Offset schedule by 1 week starting on the 30/08/2018.\n",
    "\n",
    " > Offset_Schedule(schedule,pd.to_datetime('2018-8-30'),1)\n",
    " \n",
    "Change date of meeting to Mondays ('0')\n",
    "\n",
    "> DoW_Schedule(schedule,0)"
   ]
  },
  {
   "cell_type": "code",
   "execution_count": 2,
   "metadata": {},
   "outputs": [
    {
     "name": "stdout",
     "output_type": "stream",
     "text": [
      "         Date             Topic   Speaker\n",
      "0  2020-10-01       Arxiv Paper       Tom\n",
      "1  2020-10-08  Classical Review      Alex\n",
      "2  2020-10-15     Order of Mag.     Nicha\n",
      "3  2020-10-22       Arxiv Paper     James\n",
      "4  2020-10-29  Classical Review  Benjamin\n",
      "5  2020-11-05     Order of Mag.      Brad\n",
      "6  2020-11-12       Arxiv Paper    Oliver\n",
      "7  2020-11-19  Classical Review     Keven\n",
      "8  2020-11-26     Order of Mag.      Balu\n",
      "9  2020-12-03       Arxiv Paper     Hilmi\n",
      "10 2020-12-10  Classical Review      Matt\n",
      "11 2020-12-17     Order of Mag.       Tom\n",
      "12 2020-12-24       Arxiv Paper      Alex\n",
      "13 2020-12-31  Classical Review     Nicha\n",
      "14 2021-01-07     Order of Mag.     James\n",
      "15 2021-01-14       Arxiv Paper  Benjamin\n",
      "16 2021-01-21  Classical Review      Brad\n",
      "17 2021-01-28     Order of Mag.    Oliver\n",
      "18 2021-02-04       Arxiv Paper     Keven\n",
      "19 2021-02-11  Classical Review      Balu\n",
      "20 2021-02-18     Order of Mag.     Hilmi\n",
      "21 2021-02-25       Arxiv Paper      Matt\n",
      "22 2021-03-04  Classical Review       Tom\n",
      "23 2021-03-11     Order of Mag.      Alex\n",
      "24 2021-03-18       Arxiv Paper     Nicha\n",
      "25 2021-03-25  Classical Review     James\n",
      "26 2021-04-01     Order of Mag.  Benjamin\n",
      "27 2021-04-08       Arxiv Paper      Brad\n",
      "28 2021-04-15  Classical Review    Oliver\n",
      "29 2021-04-22     Order of Mag.     Keven\n",
      "30 2021-04-29       Arxiv Paper      Balu\n",
      "31 2021-05-06  Classical Review     Hilmi\n",
      "32 2021-05-13     Order of Mag.      Matt\n"
     ]
    }
   ],
   "source": [
    "#Initial Schedule\n",
    "#Refresh at start of new year when current day > 2018-12-27\n",
    "\n",
    "schedule = pd.read_csv('Initial_Schedule_CombinedGroupMeeting.csv', index_col=0, parse_dates=['Date'])\n",
    "schedule.reset_index(level=0, inplace=True)\n",
    "print(schedule)"
   ]
  },
  {
   "cell_type": "code",
   "execution_count": 24,
   "metadata": {},
   "outputs": [],
   "source": [
    "#Editing region 2018\n",
    "\n",
    "#schedule = DoW_Schedule(schedule,4)                     #Schedule moved to Fridays 10AM                \n",
    "#schedule = Offset_Schedule(schedule,'2018-09-28',1)     #Offsetting the Grand Final Public Holiday\n",
    "#schedule = Offset_Schedule(schedule,'2018-10-05',1)     #Offsetting for the Monthly Astro3D meeting\n",
    "#schedule = DoW_Schedule(schedule,3)                     #Schedule changed back to Thursday 1:30PM\n",
    "#schedule = Add_Special_Replacement(schedule,'2018-10-25','Stephi','Paper (Sp.Request)')      #Special Req by Stephi\n",
    "#schedule = Offset_Schedule(schedule,'2018-11-01',1)     #Offsetting as Michele is away\n",
    "#schedule = Offset_Schedule(schedule,'2018-11-08',1)     #Offsetting due to Master Student Talks\n",
    "#schedule = Offset_Schedule(schedule,'2018-11-15',2)     #Offsetting due to Astro3D Retreat and SCICODER Workshop\n",
    "#schedule = Mask_Date(schedule,'2018-12-20','2018-12-06',1)  #Stephi not to present as she has presented by Sp. Req\n",
    "#schedule = Offset_Schedule(schedule,'2018-12-27',-1)        #Adam to fast forward Stephi presented early\n",
    "#schedule = Add_Special_Replacement(schedule,'2018-12-06','Rob', 'Lab Tour (Sp.Req)')  #Special Req by Rob\n",
    "#schedule = Mask_Date(schedule,'2018-12-20','2018-12-06',1)  #Rob not to present as he has scheduled a Sp. Req\n",
    "#schedule = Offset_Schedule(schedule,'2018-12-27',-1)        #Adam to fast forward as Rob has presented early\n",
    "#schedule = update_schedule(schedule)  \n",
    "#print(schedule)"
   ]
  },
  {
   "cell_type": "code",
   "execution_count": 21,
   "metadata": {
    "scrolled": true
   },
   "outputs": [],
   "source": [
    "#Editing region Semester 1 2019\n",
    "\n",
    "#schedule = Add_Special_Replacement(schedule,'2019-02-28', 'Michele', 'OoM (Sp. Req)')    #Special OoM request by Michele\n",
    "#schedule = Offset_Schedule(schedule,'2019-03-14',1)         #Offsetting due to Colloquium\n",
    "#schedule = Add_Special_Replacement(schedule,'2019-03-21', 'Robert', 'Arxiv (Sp.)', offset=False) #Rob standing in\n",
    "#schedule = Mask_Date(schedule,'2019-04-04','2019-03-21',1)  #Removing Rob from next speaking due to standing in\n",
    "#schedule = Add_Special_Replacement(schedule,'2019-03-28', 'Ruggero', 'Completion Prac.', offset=True) #Ruggero to dry run his completion talk\n",
    "#schedule = Offset_Schedule(schedule,'2019-04-18',-1)  #Matt to fast forward as Rob has presented early\n",
    "#schedule = Offset_Schedule(schedule,'2019-04-25',1)   #ANZAC Day\n",
    "#schedule = Offset_Schedule(schedule,'2019-05-02',1)   #Requested Mid-Sem Holiday Break\n",
    "#schedule = Offset_Schedule(schedule,'2019-05-23',1)   #Astro3D Science Meeting\n",
    "\n",
    "\n",
    "### Fixing Available Dates\n",
    "#schedule = Add_Special_Replacement(schedule,'2019-05-30', 'Maryam', 'Own work (Sp. Req)', offset=True)\n",
    "#schedule = Mask_Date(schedule,'2019-06-27','2019-05-30',1)\n",
    "#schedule = Offset_Schedule(schedule,'2019-07-04',-1)\n",
    "\n",
    "#schedule = Add_Special_Replacement(schedule,'2019-07-18', 'Maryam', 'Paper (Sp.)', offset=True)\n",
    "#schedule = Mask_Date(schedule,'2019-08-15','2019-07-18',1)\n",
    "#schedule = Offset_Schedule(schedule,'2019-08-22',-1)\n",
    "###\n",
    "\n",
    "#schedule = update_schedule(schedule) \n",
    "#print(schedule)"
   ]
  },
  {
   "cell_type": "code",
   "execution_count": 3,
   "metadata": {},
   "outputs": [],
   "source": [
    "#Editing region Semester 2 2019\n",
    "\n",
    "#schedule = Offset_Schedule(schedule,'2019-08-08',1)\n",
    "#schedule = Add_Special_Replacement(schedule,'2019-08-08', 'Oliver', 'CP (changed)')\n",
    "#schedule = Mask_Date(schedule,'2019-08-22','2019-08-08',1)#Oliver to switch with Alex\n",
    "#schedule = Offset_Schedule(schedule,'2019-08-29',-1)      #Move dates forward as Ollie changed\n",
    "#schedule = Offset_Schedule(schedule,'2019-08-15',4)       #Unfortunate series of missed meetings\n",
    "#schedule = Offset_Schedule(schedule,'2019-09-26',2)       #Grand Final Day + ASTRO3D Meeting\n",
    "#schedule = Offset_Schedule(schedule,'2019-10-31',3)       #Masters Talk + A3D Retreat + Many little delays\n",
    "\n",
    "#schedule= update_schedule(schedule)\n",
    "#print(schedule)"
   ]
  },
  {
   "cell_type": "code",
   "execution_count": 3,
   "metadata": {},
   "outputs": [],
   "source": [
    "#Editing region Semester 1 2020\n",
    "\n",
    "#When Astro3D releases monthly schedule - we'll add it in\n",
    "\n",
    "#schedule= update_schedule(schedule)\n",
    "#print(schedule)"
   ]
  },
  {
   "cell_type": "code",
   "execution_count": 12,
   "metadata": {},
   "outputs": [
    {
     "name": "stdout",
     "output_type": "stream",
     "text": [
      "         Date             Topic   Speaker\n",
      "0  2020-07-31  Classical Review    Oliver\n",
      "1  2020-08-07     Order of Mag.       Tom\n",
      "2  2020-08-14       Arxiv Paper      Alex\n",
      "3  2020-08-21  Classical Review  Benjamin\n",
      "4  2020-08-28     Order of Mag.     Nicha\n",
      "5  2020-09-04       Arxiv Paper     Keven\n",
      "6  2020-09-11  Classical Review      Matt\n",
      "7  2020-09-18     Order of Mag.    Oliver\n",
      "8  2020-09-25       Arxiv Paper       Tom\n",
      "9  2020-10-02  Classical Review      Alex\n",
      "10 2020-10-09     Order of Mag.  Benjamin\n",
      "11 2020-10-16       Arxiv Paper     Nicha\n",
      "12 2020-10-23  Classical Review     Keven\n",
      "13 2020-10-30     Order of Mag.      Matt\n",
      "14 2020-11-06       Arxiv Paper    Oliver\n",
      "15 2020-11-13  Classical Review       Tom\n",
      "16 2020-11-20     Order of Mag.      Alex\n",
      "17 2020-11-27       Arxiv Paper  Benjamin\n",
      "18 2020-12-04  Classical Review     Nicha\n",
      "19 2020-12-11     Order of Mag.     Keven\n",
      "20 2020-12-18       Arxiv Paper      Matt\n"
     ]
    },
    {
     "name": "stderr",
     "output_type": "stream",
     "text": [
      "/Users/keven/GoogleDrive/GroupMeeting/functions.py:29: FutureWarning: The pandas.datetime class is deprecated and will be removed from pandas in a future version. Import from datetime module instead.\n",
      "  if Start_Schedule_Date > pd.Timestamp(pd.datetime.now().date()):\n"
     ]
    }
   ],
   "source": [
    "#Editing region Semester 2 2020\n",
    "\n",
    "#Work from home. No edits to schedule.\n",
    "\n",
    "#schedule = update_schedule(schedule)\n",
    "#print(schedule)"
   ]
  },
  {
   "cell_type": "code",
   "execution_count": 3,
   "metadata": {},
   "outputs": [
    {
     "name": "stdout",
     "output_type": "stream",
     "text": [
      "         Date             Topic   Speaker\n",
      "0  2020-10-01       Arxiv Paper       Tom\n",
      "1  2020-10-08  Classical Review      Alex\n",
      "2  2020-10-15     Order of Mag.     Nicha\n",
      "3  2020-10-22       Arxiv Paper     James\n",
      "4  2020-10-29  Classical Review  Benjamin\n",
      "5  2020-11-05     Order of Mag.      Brad\n",
      "6  2020-11-12       Arxiv Paper    Oliver\n",
      "7  2020-11-19  Classical Review     Keven\n",
      "8  2020-11-26     Order of Mag.      Balu\n",
      "9  2020-12-03       Arxiv Paper     Hilmi\n",
      "10 2020-12-10  Classical Review      Matt\n",
      "11 2020-12-17     Order of Mag.       Tom\n",
      "12 2020-12-24       Arxiv Paper      Alex\n",
      "13 2020-12-31  Classical Review     Nicha\n",
      "14 2021-01-07     Order of Mag.     James\n",
      "15 2021-01-14       Arxiv Paper  Benjamin\n",
      "16 2021-01-21  Classical Review      Brad\n",
      "17 2021-01-28     Order of Mag.    Oliver\n",
      "18 2021-02-04       Arxiv Paper     Keven\n",
      "19 2021-02-11  Classical Review      Balu\n",
      "20 2021-02-18     Order of Mag.     Hilmi\n",
      "21 2021-02-25       Arxiv Paper      Matt\n",
      "22 2021-03-04  Classical Review       Tom\n",
      "23 2021-03-11     Order of Mag.      Alex\n",
      "24 2021-03-18       Arxiv Paper     Nicha\n",
      "25 2021-03-25  Classical Review     James\n",
      "26 2021-04-01     Order of Mag.  Benjamin\n",
      "27 2021-04-08       Arxiv Paper      Brad\n",
      "28 2021-04-15  Classical Review    Oliver\n",
      "29 2021-04-22     Order of Mag.     Keven\n",
      "30 2021-04-29       Arxiv Paper      Balu\n",
      "31 2021-05-06  Classical Review     Hilmi\n",
      "32 2021-05-13     Order of Mag.      Matt\n"
     ]
    },
    {
     "name": "stderr",
     "output_type": "stream",
     "text": [
      "/Users/keven/GoogleDrive/GroupMeeting/functions.py:29: FutureWarning: The pandas.datetime class is deprecated and will be removed from pandas in a future version. Import from datetime module instead.\n",
      "  if Start_Schedule_Date > pd.Timestamp(pd.datetime.now().date()):\n"
     ]
    }
   ],
   "source": [
    "#Editing Region Semester 2 2020 (Combined Group Meeting)\n",
    "\n",
    "#online Zoom ed.\n",
    "\n",
    "schedule = update_schedule(schedule)\n",
    "print(schedule)"
   ]
  },
  {
   "cell_type": "code",
   "execution_count": 4,
   "metadata": {},
   "outputs": [],
   "source": [
    "#Run this when schedule is to liking\n",
    "#schedule['Date'] = schedule['Date'].dt.floor('d')\n",
    "\n",
    "schedule.to_csv('updated_schedule.csv')"
   ]
  },
  {
   "cell_type": "code",
   "execution_count": 5,
   "metadata": {},
   "outputs": [
    {
     "name": "stdout",
     "output_type": "stream",
     "text": [
      "         Date             Topic   Speaker\n",
      "0  2020-10-01       Arxiv Paper       Tom\n",
      "1  2020-10-08  Classical Review      Alex\n",
      "2  2020-10-15     Order of Mag.     Nicha\n",
      "3  2020-10-22       Arxiv Paper     James\n",
      "4  2020-10-29  Classical Review  Benjamin\n",
      "5  2020-11-05     Order of Mag.      Brad\n",
      "6  2020-11-12       Arxiv Paper    Oliver\n",
      "7  2020-11-19  Classical Review     Keven\n",
      "8  2020-11-26     Order of Mag.      Balu\n",
      "9  2020-12-03       Arxiv Paper     Hilmi\n",
      "10 2020-12-10  Classical Review      Matt\n",
      "11 2020-12-17     Order of Mag.       Tom\n",
      "12 2020-12-24       Arxiv Paper      Alex\n",
      "13 2020-12-31  Classical Review     Nicha\n",
      "14 2021-01-07     Order of Mag.     James\n",
      "15 2021-01-14       Arxiv Paper  Benjamin\n",
      "16 2021-01-21  Classical Review      Brad\n",
      "17 2021-01-28     Order of Mag.    Oliver\n",
      "18 2021-02-04       Arxiv Paper     Keven\n",
      "19 2021-02-11  Classical Review      Balu\n",
      "20 2021-02-18     Order of Mag.     Hilmi\n",
      "21 2021-02-25       Arxiv Paper      Matt\n",
      "22 2021-03-04  Classical Review       Tom\n",
      "23 2021-03-11     Order of Mag.      Alex\n",
      "24 2021-03-18       Arxiv Paper     Nicha\n",
      "25 2021-03-25  Classical Review     James\n",
      "26 2021-04-01     Order of Mag.  Benjamin\n",
      "27 2021-04-08       Arxiv Paper      Brad\n",
      "28 2021-04-15  Classical Review    Oliver\n",
      "29 2021-04-22     Order of Mag.     Keven\n",
      "30 2021-04-29       Arxiv Paper      Balu\n",
      "31 2021-05-06  Classical Review     Hilmi\n",
      "32 2021-05-13     Order of Mag.      Matt\n"
     ]
    }
   ],
   "source": [
    "schedule = schedule.sort_values('Date')\n",
    "\n",
    "print(schedule)"
   ]
  },
  {
   "cell_type": "code",
   "execution_count": null,
   "metadata": {},
   "outputs": [],
   "source": []
  }
 ],
 "metadata": {
  "kernelspec": {
   "display_name": "Python 3",
   "language": "python",
   "name": "python3"
  },
  "language_info": {
   "codemirror_mode": {
    "name": "ipython",
    "version": 3
   },
   "file_extension": ".py",
   "mimetype": "text/x-python",
   "name": "python",
   "nbconvert_exporter": "python",
   "pygments_lexer": "ipython3",
   "version": "3.7.0"
  }
 },
 "nbformat": 4,
 "nbformat_minor": 2
}
