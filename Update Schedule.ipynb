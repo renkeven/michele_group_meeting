{
 "cells": [
  {
   "cell_type": "code",
   "execution_count": 2,
   "metadata": {},
   "outputs": [],
   "source": [
    "import numpy as np\n",
    "import pandas as pd\n",
    "import datetime\n",
    "from functions import *"
   ]
  },
  {
   "cell_type": "code",
   "execution_count": null,
   "metadata": {},
   "outputs": [],
   "source": [
    "## Testing Region\n",
    "\n",
    "#Load_Init = pd.read_csv('Initial_Schedule.csv', index_col=0, parse_dates=['Date'])\n",
    "#First_Update = update_schedule(Load_Init)\n",
    "#First_Update.to_csv('updated_schedule.csv')\n",
    "#print Load_Init\n",
    "#print First_Update\n",
    "#First_Update.iloc[3:]\n"
   ]
  },
  {
   "cell_type": "markdown",
   "metadata": {},
   "source": [
    "# Examples:\n",
    "\n",
    "Tip: Keep things simple by updating before making new changes.\n",
    "\n",
    "Offset schedule by 1 week starting on the 30/08/2018.\n",
    "\n",
    " > Offset_Schedule(schedule,pd.to_datetime('2018-8-30'),1)\n",
    " \n",
    "Change date of meeting to Mondays ('0')\n",
    "\n",
    "> DoW_Schedule(schedule,0)"
   ]
  },
  {
   "cell_type": "code",
   "execution_count": 7,
   "metadata": {},
   "outputs": [
    {
     "name": "stdout",
     "output_type": "stream",
     "text": [
      "         Date             Topic   Speaker\n",
      "0  2019-08-01     Order of Mag.    Robert\n",
      "1  2019-08-08       Arxiv Paper      Alex\n",
      "2  2019-08-15  Classical Review    Oliver\n",
      "3  2019-08-22     Order of Mag.      Adam\n",
      "4  2019-08-29       Arxiv Paper  Benjamin\n",
      "5  2019-09-05  Classical Review      Matt\n",
      "6  2019-09-12     Order of Mag.     Keven\n",
      "7  2019-09-19       Arxiv Paper    Robert\n",
      "8  2019-09-26  Classical Review      Alex\n",
      "9  2019-10-03     Order of Mag.    Oliver\n",
      "10 2019-10-10       Arxiv Paper      Adam\n",
      "11 2019-10-17  Classical Review  Benjamin\n",
      "12 2019-10-24     Order of Mag.      Matt\n",
      "13 2019-10-31       Arxiv Paper     Keven\n",
      "14 2019-11-07  Classical Review    Robert\n",
      "15 2019-11-14     Order of Mag.      Alex\n",
      "16 2019-11-21       Arxiv Paper    Oliver\n",
      "17 2019-11-28  Classical Review      Adam\n",
      "18 2019-12-05     Order of Mag.  Benjamin\n",
      "19 2019-12-12       Arxiv Paper      Matt\n",
      "20 2019-12-19  Classical Review     Keven\n",
      "21 2019-12-26     Order of Mag.    Robert\n",
      "22 2020-01-02       Arxiv Paper      Alex\n",
      "23 2020-01-09  Classical Review    Oliver\n"
     ]
    }
   ],
   "source": [
    "#Initial Schedule\n",
    "#Refresh at start of new year when current day > 2018-12-27\n",
    "\n",
    "schedule = pd.read_csv('Initial_Schedule2019S2.csv', index_col=0, parse_dates=['Date'])\n",
    "schedule.reset_index(level=0, inplace=True)\n",
    "print(schedule)"
   ]
  },
  {
   "cell_type": "code",
   "execution_count": 24,
   "metadata": {},
   "outputs": [],
   "source": [
    "#Editing region 2018\n",
    "\n",
    "#schedule = DoW_Schedule(schedule,4)                     #Schedule moved to Fridays 10AM                \n",
    "#schedule = Offset_Schedule(schedule,'2018-09-28',1)     #Offsetting the Grand Final Public Holiday\n",
    "#schedule = Offset_Schedule(schedule,'2018-10-05',1)     #Offsetting for the Monthly Astro3D meeting\n",
    "#schedule = DoW_Schedule(schedule,3)                     #Schedule changed back to Thursday 1:30PM\n",
    "#schedule = Add_Special_Replacement(schedule,'2018-10-25','Stephi','Paper (Sp.Request)')      #Special Req by Stephi\n",
    "#schedule = Offset_Schedule(schedule,'2018-11-01',1)     #Offsetting as Michele is away\n",
    "#schedule = Offset_Schedule(schedule,'2018-11-08',1)     #Offsetting due to Master Student Talks\n",
    "#schedule = Offset_Schedule(schedule,'2018-11-15',2)     #Offsetting due to Astro3D Retreat and SCICODER Workshop\n",
    "#schedule = Mask_Date(schedule,'2018-12-20','2018-12-06',1)  #Stephi not to present as she has presented by Sp. Req\n",
    "#schedule = Offset_Schedule(schedule,'2018-12-27',-1)        #Adam to fast forward Stephi presented early\n",
    "#schedule = Add_Special_Replacement(schedule,'2018-12-06','Rob', 'Lab Tour (Sp.Req)')  #Special Req by Rob\n",
    "#schedule = Mask_Date(schedule,'2018-12-20','2018-12-06',1)  #Rob not to present as he has scheduled a Sp. Req\n",
    "#schedule = Offset_Schedule(schedule,'2018-12-27',-1)        #Adam to fast forward as Rob has presented early\n",
    "#schedule = update_schedule(schedule)  \n",
    "#print(schedule)"
   ]
  },
  {
   "cell_type": "code",
   "execution_count": 21,
   "metadata": {
    "scrolled": true
   },
   "outputs": [],
   "source": [
    "#Editing region Semester 1 2019\n",
    "\n",
    "#schedule = Add_Special_Replacement(schedule,'2019-02-28', 'Michele', 'OoM (Sp. Req)')    #Special OoM request by Michele\n",
    "#schedule = Offset_Schedule(schedule,'2019-03-14',1)         #Offsetting due to Colloquium\n",
    "#schedule = Add_Special_Replacement(schedule,'2019-03-21', 'Robert', 'Arxiv (Sp.)', offset=False) #Rob standing in\n",
    "#schedule = Mask_Date(schedule,'2019-04-04','2019-03-21',1)  #Removing Rob from next speaking due to standing in\n",
    "#schedule = Add_Special_Replacement(schedule,'2019-03-28', 'Ruggero', 'Completion Prac.', offset=True) #Ruggero to dry run his completion talk\n",
    "#schedule = Offset_Schedule(schedule,'2019-04-18',-1)  #Matt to fast forward as Rob has presented early\n",
    "#schedule = Offset_Schedule(schedule,'2019-04-25',1)   #ANZAC Day\n",
    "#schedule = Offset_Schedule(schedule,'2019-05-02',1)   #Requested Mid-Sem Holiday Break\n",
    "#schedule = Offset_Schedule(schedule,'2019-05-23',1)   #Astro3D Science Meeting\n",
    "\n",
    "\n",
    "### Fixing Available Dates\n",
    "#schedule = Add_Special_Replacement(schedule,'2019-05-30', 'Maryam', 'Own work (Sp. Req)', offset=True)\n",
    "#schedule = Mask_Date(schedule,'2019-06-27','2019-05-30',1)\n",
    "#schedule = Offset_Schedule(schedule,'2019-07-04',-1)\n",
    "\n",
    "#schedule = Add_Special_Replacement(schedule,'2019-07-18', 'Maryam', 'Paper (Sp.)', offset=True)\n",
    "#schedule = Mask_Date(schedule,'2019-08-15','2019-07-18',1)\n",
    "#schedule = Offset_Schedule(schedule,'2019-08-22',-1)\n",
    "###\n",
    "\n",
    "#schedule = update_schedule(schedule) \n",
    "#print(schedule)"
   ]
  },
  {
   "cell_type": "code",
   "execution_count": 8,
   "metadata": {},
   "outputs": [
    {
     "name": "stdout",
     "output_type": "stream",
     "text": [
      "         Date   Speaker             Topic\n",
      "0  2019-11-21    Robert       Arxiv Paper\n",
      "1  2019-11-28      Alex  Classical Review\n",
      "2  2019-12-05    Oliver     Order of Mag.\n",
      "3  2019-12-12      Adam       Arxiv Paper\n",
      "4  2019-12-19  Benjamin  Classical Review\n",
      "5  2019-12-26      Matt     Order of Mag.\n",
      "6  2020-01-02     Keven       Arxiv Paper\n",
      "7  2020-01-09    Robert  Classical Review\n",
      "8  2020-01-16      Alex     Order of Mag.\n",
      "9  2020-01-23    Oliver       Arxiv Paper\n",
      "10 2020-01-30      Adam  Classical Review\n",
      "11 2020-02-06  Benjamin     Order of Mag.\n",
      "12 2020-02-13      Matt       Arxiv Paper\n",
      "13 2020-02-20     Keven  Classical Review\n",
      "14 2020-02-27    Robert     Order of Mag.\n",
      "15 2020-03-05      Alex       Arxiv Paper\n",
      "16 2020-03-12    Oliver  Classical Review\n",
      "17 2020-03-19    Robert     Order of Mag.\n",
      "18 2020-03-26    Oliver  Classical Review\n",
      "19 2020-04-02      Alex       Arxiv Paper\n",
      "20 2020-04-09      Adam     Order of Mag.\n",
      "21 2020-04-16  Benjamin       Arxiv Paper\n",
      "22 2020-04-23      Matt  Classical Review\n",
      "23 2020-04-30     Keven     Order of Mag.\n"
     ]
    },
    {
     "name": "stderr",
     "output_type": "stream",
     "text": [
      "/usr/local/anaconda3/lib/python3.7/site-packages/pandas/core/frame.py:6211: FutureWarning: Sorting because non-concatenation axis is not aligned. A future version\n",
      "of pandas will change to not sort by default.\n",
      "\n",
      "To accept the future behavior, pass 'sort=False'.\n",
      "\n",
      "To retain the current behavior and silence the warning, pass 'sort=True'.\n",
      "\n",
      "  sort=sort)\n"
     ]
    }
   ],
   "source": [
    "#Editing region Semester 2 2019\n",
    "\n",
    "#schedule = Offset_Schedule(schedule,'2019-08-08',1)\n",
    "schedule = Add_Special_Replacement(schedule,'2019-08-08', 'Oliver', 'CP (changed)')\n",
    "schedule = Mask_Date(schedule,'2019-08-22','2019-08-08',1)#Oliver to switch with Alex\n",
    "schedule = Offset_Schedule(schedule,'2019-08-29',-1)      #Move dates forward as Ollie changed\n",
    "schedule = Offset_Schedule(schedule,'2019-08-15',4)       #Unfortunate series of missed meetings\n",
    "schedule = Offset_Schedule(schedule,'2019-09-26',2)       #Grand Final Day + ASTRO3D Meeting\n",
    "schedule = Offset_Schedule(schedule,'2019-10-31',3)       #Masters Talk + A3D Retreat + Many little delays\n",
    "\n",
    "schedule= update_schedule(schedule)\n",
    "print(schedule)"
   ]
  },
  {
   "cell_type": "code",
   "execution_count": 9,
   "metadata": {},
   "outputs": [],
   "source": [
    "#Run this when schedule is to liking\n",
    "#schedule['Date'] = schedule['Date'].dt.floor('d')\n",
    "\n",
    "schedule.to_csv('updated_schedule.csv')"
   ]
  },
  {
   "cell_type": "code",
   "execution_count": 13,
   "metadata": {},
   "outputs": [
    {
     "name": "stdout",
     "output_type": "stream",
     "text": [
      "         Date   Speaker               Topic\n",
      "0  2019-05-30    Maryam  Own work (Sp. Req)\n",
      "1  2019-06-06     Keven    Classical Review\n",
      "2  2019-06-13    Stephi         Arxiv Paper\n",
      "3  2019-06-20  Benjamin       Order of Mag.\n",
      "4  2019-06-27      Alex         Arxiv Paper\n",
      "5  2019-07-04    Robert       Order of Mag.\n",
      "6  2019-07-11      Matt    Classical Review\n",
      "7  2019-07-18    Maryam         Paper (Sp.)\n",
      "8  2019-07-25     Keven         Arxiv Paper\n",
      "9  2019-08-01      Adam       Order of Mag.\n",
      "10 2019-08-08    Oliver    Classical Review\n",
      "11 2019-08-15    Stephi       Order of Mag.\n",
      "12 2019-08-22  Benjamin    Classical Review\n",
      "13 2019-08-29      Matt         Arxiv Paper\n",
      "14 2019-09-05      Alex       Order of Mag.\n",
      "15 2019-09-12    Robert    Classical Review\n",
      "16 2019-09-19    Oliver         Arxiv Paper\n",
      "17 2019-09-26     Keven       Order of Mag.\n",
      "18 2019-10-03      Adam    Classical Review\n",
      "19 2019-10-10  Benjamin         Arxiv Paper\n",
      "20 2019-10-17    Maryam       Order of Mag.\n",
      "21 2019-10-24    Robert         Arxiv Paper\n",
      "22 2019-10-31    Stephi    Classical Review\n",
      "23 2019-11-07      Matt       Order of Mag.\n",
      "24 2019-11-14      Alex    Classical Review\n",
      "25 2019-11-21      Adam         Arxiv Paper\n",
      "26 2019-11-28    Oliver       Order of Mag.\n"
     ]
    }
   ],
   "source": [
    "schedule = schedule.sort_values('Date')\n",
    "\n",
    "print(schedule)"
   ]
  },
  {
   "cell_type": "code",
   "execution_count": null,
   "metadata": {},
   "outputs": [],
   "source": []
  }
 ],
 "metadata": {
  "kernelspec": {
   "display_name": "Python 3",
   "language": "python",
   "name": "python3"
  },
  "language_info": {
   "codemirror_mode": {
    "name": "ipython",
    "version": 3
   },
   "file_extension": ".py",
   "mimetype": "text/x-python",
   "name": "python",
   "nbconvert_exporter": "python",
   "pygments_lexer": "ipython3",
   "version": "3.7.0"
  }
 },
 "nbformat": 4,
 "nbformat_minor": 2
}
