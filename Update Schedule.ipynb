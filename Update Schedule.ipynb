{
 "cells": [
  {
   "cell_type": "code",
   "execution_count": 1,
   "metadata": {},
   "outputs": [],
   "source": [
    "import numpy as np\n",
    "import pandas as pd\n",
    "import datetime\n",
    "from functions import *"
   ]
  },
  {
   "cell_type": "code",
   "execution_count": 13,
   "metadata": {},
   "outputs": [],
   "source": [
    "## Testing Region\n",
    "\n",
    "#Load_Init = pd.read_csv('Initial_Schedule.csv', index_col=0, parse_dates=['Date'])\n",
    "#First_Update = update_schedule(Load_Init)\n",
    "#First_Update.to_csv('updated_schedule.csv')\n",
    "#print Load_Init\n",
    "#print First_Update\n",
    "#First_Update.iloc[3:]"
   ]
  },
  {
   "cell_type": "markdown",
   "metadata": {},
   "source": [
    "# Examples:\n",
    "Offset schedule by 1 week starting on the 30/08/2018.\n",
    "\n",
    " > Offset_Schedule(schedule,pd.to_datetime('2018-8-30'),1)"
   ]
  },
  {
   "cell_type": "code",
   "execution_count": 18,
   "metadata": {},
   "outputs": [],
   "source": [
    "#Initial Schedule\n",
    "\n",
    "schedule = pd.read_csv('Initial_Schedule.csv', index_col=0, parse_dates=['Date'])\n",
    "#print schedule"
   ]
  },
  {
   "cell_type": "code",
   "execution_count": 19,
   "metadata": {},
   "outputs": [
    {
     "name": "stdout",
     "output_type": "stream",
     "text": [
      "         Date   Speaker             Topic\n",
      "0  2018-08-16      Alex       Arxiv Paper\n",
      "1  2018-08-23      Adam  Classical Review\n",
      "2  2018-08-30     Keven     Order of Mag.\n",
      "3  2018-09-06    Robert       Arxiv Paper\n",
      "4  2018-09-13    Stephi  Classical Review\n",
      "5  2018-09-20      Adam     Order of Mag.\n",
      "6  2018-09-27  Benjamin       Arxiv Paper\n",
      "7  2018-10-04      Alex  Classical Review\n",
      "8  2018-10-11    Oliver     Order of Mag.\n",
      "9  2018-10-18     Keven       Arxiv Paper\n",
      "10 2018-10-25    Robert  Classical Review\n",
      "11 2018-11-01    Stephi     Order of Mag.\n",
      "12 2018-11-08      Adam       Arxiv Paper\n",
      "13 2018-11-15  Benjamin  Classical Review\n",
      "14 2018-11-22      Alex     Order of Mag.\n",
      "15 2018-11-29    Oliver       Arxiv Paper\n",
      "16 2018-12-06     Keven  Classical Review\n",
      "17 2018-12-13    Robert     Order of Mag.\n",
      "18 2018-12-20    Stephi       Arxiv Paper\n",
      "19 2018-12-27      Adam  Classical Review\n",
      "20 2019-01-03  Benjamin     Order of Mag.\n"
     ]
    }
   ],
   "source": [
    "#Editing region\n",
    "schedule = Offset_Schedule(schedule,'2018-08-09',1)     #Meeting this week not run\n",
    "\n",
    "print schedule"
   ]
  },
  {
   "cell_type": "code",
   "execution_count": 20,
   "metadata": {},
   "outputs": [],
   "source": [
    "#Run this when schedule is to liking\n",
    "\n",
    "schedule.to_csv('updated_schedule.csv')"
   ]
  },
  {
   "cell_type": "code",
   "execution_count": null,
   "metadata": {},
   "outputs": [],
   "source": []
  }
 ],
 "metadata": {
  "kernelspec": {
   "display_name": "Python 2",
   "language": "python",
   "name": "python2"
  },
  "language_info": {
   "codemirror_mode": {
    "name": "ipython",
    "version": 2
   },
   "file_extension": ".py",
   "mimetype": "text/x-python",
   "name": "python",
   "nbconvert_exporter": "python",
   "pygments_lexer": "ipython2",
   "version": "2.7.15"
  }
 },
 "nbformat": 4,
 "nbformat_minor": 2
}
