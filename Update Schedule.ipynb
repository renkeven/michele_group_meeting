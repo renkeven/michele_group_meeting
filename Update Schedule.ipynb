{
 "cells": [
  {
   "cell_type": "code",
   "execution_count": 1,
   "metadata": {},
   "outputs": [],
   "source": [
    "import numpy as np\n",
    "import pandas as pd\n",
    "import datetime\n",
    "from functions import *"
   ]
  },
  {
   "cell_type": "code",
   "execution_count": null,
   "metadata": {},
   "outputs": [],
   "source": [
    "## Testing Region\n",
    "\n",
    "#Load_Init = pd.read_csv('Initial_Schedule.csv', index_col=0, parse_dates=['Date'])\n",
    "#First_Update = update_schedule(Load_Init)\n",
    "#First_Update.to_csv('updated_schedule.csv')\n",
    "#print Load_Init\n",
    "#print First_Update\n",
    "#First_Update.iloc[3:]\n"
   ]
  },
  {
   "cell_type": "markdown",
   "metadata": {},
   "source": [
    "# Examples:\n",
    "\n",
    "Tip: Keep things simple by updating before making new changes.\n",
    "\n",
    "Offset schedule by 1 week starting on the 30/08/2018.\n",
    "\n",
    " > Offset_Schedule(schedule,pd.to_datetime('2018-8-30'),1)\n",
    " \n",
    "Change date of meeting to Mondays ('0')\n",
    "\n",
    "> DoW_Schedule(schedule,0)"
   ]
  },
  {
   "cell_type": "code",
   "execution_count": 2,
   "metadata": {},
   "outputs": [],
   "source": [
    "#Initial Schedule\n",
    "\n",
    "schedule = pd.read_csv('Initial_Schedule.csv', index_col=0, parse_dates=['Date'])\n",
    "#print schedule\n"
   ]
  },
  {
   "cell_type": "code",
   "execution_count": 3,
   "metadata": {},
   "outputs": [
    {
     "name": "stdout",
     "output_type": "stream",
     "text": [
      "         Date   Speaker             Topic\n",
      "0  2018-10-05  Benjamin       Arxiv Paper\n",
      "1  2018-10-12      Alex  Classical Review\n",
      "2  2018-10-19    Oliver     Order of Mag.\n",
      "3  2018-10-26     Keven       Arxiv Paper\n",
      "4  2018-11-02    Robert  Classical Review\n",
      "5  2018-11-09    Stephi     Order of Mag.\n",
      "6  2018-11-16      Adam       Arxiv Paper\n",
      "7  2018-11-23  Benjamin  Classical Review\n",
      "8  2018-11-30      Alex     Order of Mag.\n",
      "9  2018-12-07    Oliver       Arxiv Paper\n",
      "10 2018-12-14     Keven  Classical Review\n",
      "11 2018-12-21    Robert     Order of Mag.\n",
      "12 2018-12-28    Stephi       Arxiv Paper\n",
      "13 2019-01-04      Adam  Classical Review\n",
      "14 2019-01-11  Benjamin     Order of Mag.\n",
      "15 2019-01-18      Alex       Arxiv Paper\n",
      "16 2019-01-25      Adam  Classical Review\n",
      "17 2019-02-01     Keven     Order of Mag.\n",
      "18 2019-02-08    Robert       Arxiv Paper\n",
      "19 2019-02-15    Stephi  Classical Review\n",
      "20 2019-02-22      Adam     Order of Mag.\n"
     ]
    }
   ],
   "source": [
    "#Editing region\n",
    "schedule = Offset_Schedule(schedule,'2018-08-09',1)     #Meeting this week not run\n",
    "schedule = DoW_Schedule(schedule,4)                     #Schedule moved to Fridays 10AM\n",
    "schedule = update_schedule(schedule)                    #Offsetting the Grand Final Public Holiday\n",
    "schedule = Offset_Schedule(schedule,'2018-09-28',1)\n",
    "\n",
    "print schedule"
   ]
  },
  {
   "cell_type": "code",
   "execution_count": 4,
   "metadata": {},
   "outputs": [],
   "source": [
    "#Run this when schedule is to liking\n",
    "\n",
    "schedule.to_csv('updated_schedule.csv')"
   ]
  },
  {
   "cell_type": "code",
   "execution_count": null,
   "metadata": {},
   "outputs": [],
   "source": []
  }
 ],
 "metadata": {
  "kernelspec": {
   "display_name": "Python 2",
   "language": "python",
   "name": "python2"
  },
  "language_info": {
   "codemirror_mode": {
    "name": "ipython",
    "version": 2
   },
   "file_extension": ".py",
   "mimetype": "text/x-python",
   "name": "python",
   "nbconvert_exporter": "python",
   "pygments_lexer": "ipython2",
   "version": "2.7.15"
  }
 },
 "nbformat": 4,
 "nbformat_minor": 2
}
