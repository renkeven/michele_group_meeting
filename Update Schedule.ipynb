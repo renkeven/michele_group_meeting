{
 "cells": [
  {
   "cell_type": "code",
   "execution_count": 1,
   "metadata": {},
   "outputs": [],
   "source": [
    "import numpy as np\n",
    "import pandas as pd\n",
    "import datetime\n",
    "from functions import *"
   ]
  },
  {
   "cell_type": "code",
   "execution_count": 2,
   "metadata": {},
   "outputs": [],
   "source": [
    "## DO NOT run this if all is well\n",
    "#Load_Init = pd.read_csv('Initial_Schedule.csv', index_col=0, parse_dates=['Date'])\n",
    "#First_Update = update_schedule(Load_Init)\n",
    "#First_Update.to_csv('updated_schedule.csv')"
   ]
  },
  {
   "cell_type": "markdown",
   "metadata": {},
   "source": [
    "# Examples:\n",
    "Offset schedule by 1 week starting on the 30/08/2018.\n",
    "\n",
    " > Offset_Schedule(load_schedule,pd.to_datetime('2018-8-30',1)"
   ]
  },
  {
   "cell_type": "code",
   "execution_count": 5,
   "metadata": {},
   "outputs": [],
   "source": [
    "schedule = pd.read_csv('updated_schedule.csv', index_col=0, parse_dates=['Date'])"
   ]
  },
  {
   "cell_type": "code",
   "execution_count": 6,
   "metadata": {},
   "outputs": [
    {
     "name": "stdout",
     "output_type": "stream",
     "text": [
      "         Date   Speaker             Topic\n",
      "0  2018-08-02  Benjamin     Order of Mag.\n",
      "1  2018-08-09   Rachael       Arxiv Paper\n",
      "2  2018-08-16      Alex  Classical Review\n",
      "3  2018-08-23      Adam     Order of Mag.\n",
      "4  2018-08-30    Robert       Arxiv Paper\n",
      "5  2018-09-06    Stephi  Classical Review\n",
      "6  2018-09-13     Keven     Order of Mag.\n",
      "7  2018-09-20    Oliver       Arxiv Paper\n",
      "8  2018-09-27  Benjamin  Classical Review\n",
      "9  2018-10-04   Rachael     Order of Mag.\n",
      "10 2018-10-11      Alex       Arxiv Paper\n",
      "11 2018-10-18      Adam  Classical Review\n",
      "12 2018-10-25    Robert     Order of Mag.\n",
      "13 2018-11-01    Stephi       Arxiv Paper\n",
      "14 2018-11-08     Keven  Classical Review\n",
      "15 2018-11-15    Oliver     Order of Mag.\n",
      "16 2018-11-22  Benjamin       Arxiv Paper\n",
      "17 2018-11-29   Rachael  Classical Review\n",
      "18 2018-12-06      Alex     Order of Mag.\n",
      "19 2018-12-13      Adam       Arxiv Paper\n",
      "20 2018-12-20    Robert  Classical Review\n",
      "21 2018-12-27    Stephi     Order of Mag.\n",
      "22 2019-01-03     Keven       Arxiv Paper\n",
      "23 2019-01-10    Oliver  Classical Review\n"
     ]
    }
   ],
   "source": [
    "print schedule"
   ]
  },
  {
   "cell_type": "code",
   "execution_count": null,
   "metadata": {},
   "outputs": [],
   "source": []
  }
 ],
 "metadata": {
  "kernelspec": {
   "display_name": "Python 2",
   "language": "python",
   "name": "python2"
  },
  "language_info": {
   "codemirror_mode": {
    "name": "ipython",
    "version": 2
   },
   "file_extension": ".py",
   "mimetype": "text/x-python",
   "name": "python",
   "nbconvert_exporter": "python",
   "pygments_lexer": "ipython2",
   "version": "2.7.15"
  }
 },
 "nbformat": 4,
 "nbformat_minor": 2
}
