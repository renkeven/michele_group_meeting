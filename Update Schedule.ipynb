{
 "cells": [
  {
   "cell_type": "code",
   "execution_count": 1,
   "metadata": {},
   "outputs": [],
   "source": [
    "import numpy as np\n",
    "import pandas as pd\n",
    "import datetime\n",
    "from functions import *"
   ]
  },
  {
   "cell_type": "code",
   "execution_count": 2,
   "metadata": {},
   "outputs": [],
   "source": [
    "## Testing Region\n",
    "\n",
    "#Load_Init = pd.read_csv('Initial_Schedule.csv', index_col=0, parse_dates=['Date'])\n",
    "#First_Update = update_schedule(Load_Init)\n",
    "#First_Update.to_csv('updated_schedule.csv')\n",
    "#print Load_Init\n",
    "#print First_Update\n",
    "#First_Update.iloc[3:]\n"
   ]
  },
  {
   "cell_type": "markdown",
   "metadata": {},
   "source": [
    "# Examples:\n",
    "\n",
    "Tip: Keep things simple by updating before making new changes.\n",
    "\n",
    "Offset schedule by 1 week starting on the 30/08/2018.\n",
    "\n",
    " > Offset_Schedule(schedule,pd.to_datetime('2018-8-30'),1)\n",
    " \n",
    "Change date of meeting to Mondays ('0')\n",
    "\n",
    "> DoW_Schedule(schedule,0)"
   ]
  },
  {
   "cell_type": "code",
   "execution_count": 2,
   "metadata": {},
   "outputs": [
    {
     "name": "stdout",
     "output_type": "stream",
     "text": [
      "         Date             Topic   Speaker\n",
      "0  2019-02-07       Arxiv Paper    Oliver\n",
      "1  2019-02-14     Order of Mag.    Robert\n",
      "2  2019-02-21  Classical Review     Keven\n",
      "3  2019-02-28       Arxiv Paper  Benjamin\n",
      "4  2019-03-07     Order of Mag.    Maryam\n",
      "5  2019-03-14  Classical Review      Adam\n",
      "6  2019-03-21       Arxiv Paper      Alex\n",
      "7  2019-03-28     Order of Mag.      Matt\n",
      "8  2019-04-04  Classical Review    Oliver\n",
      "9  2019-04-11       Arxiv Paper    Robert\n",
      "10 2019-04-18     Order of Mag.     Keven\n",
      "11 2019-04-25  Classical Review  Benjamin\n",
      "12 2019-05-02       Arxiv Paper    Maryam\n",
      "13 2019-05-09     Order of Mag.      Adam\n",
      "14 2019-05-16  Classical Review      Alex\n",
      "15 2019-05-23       Arxiv Paper      Matt\n",
      "16 2019-05-30     Order of Mag.    Oliver\n",
      "17 2019-06-06  Classical Review    Robert\n",
      "18 2019-06-13       Arxiv Paper     Keven\n",
      "19 2019-06-20     Order of Mag.  Benjamin\n",
      "20 2019-06-27  Classical Review    Maryam\n",
      "21 2019-07-04       Arxiv Paper      Adam\n",
      "22 2019-07-11     Order of Mag.      Alex\n",
      "23 2019-07-18  Classical Review      Matt\n"
     ]
    }
   ],
   "source": [
    "#Initial Schedule\n",
    "#Refresh at start of new year when current day > 2018-12-27\n",
    "\n",
    "schedule = pd.read_csv('Initial_Schedule.csv', index_col=0, parse_dates=['Date'])\n",
    "\n",
    "print(schedule)"
   ]
  },
  {
   "cell_type": "code",
   "execution_count": 7,
   "metadata": {},
   "outputs": [],
   "source": [
    "#Editing region 2018\n",
    "\n",
    "#schedule = DoW_Schedule(schedule,4)                     #Schedule moved to Fridays 10AM                \n",
    "#schedule = Offset_Schedule(schedule,'2018-09-28',1)     #Offsetting the Grand Final Public Holiday\n",
    "#schedule = Offset_Schedule(schedule,'2018-10-05',1)     #Offsetting for the Monthly Astro3D meeting\n",
    "#schedule = DoW_Schedule(schedule,3)                     #Schedule changed back to Thursday 1:30PM\n",
    "#schedule = Add_Special_Replacement(schedule,'2018-10-25','Stephi','Paper (Sp.Request)')      #Special Req by Stephi\n",
    "#schedule = Offset_Schedule(schedule,'2018-11-01',1)     #Offsetting as Michele is away\n",
    "#schedule = Offset_Schedule(schedule,'2018-11-08',1)     #Offsetting due to Master Student Talks\n",
    "#schedule = Offset_Schedule(schedule,'2018-11-15',2)     #Offsetting due to Astro3D Retreat and SCICODER Workshop\n",
    "#schedule = Mask_Date(schedule,'2018-12-20','2018-12-06',1)  #Stephi not to present as she has presented by Sp. Req\n",
    "#schedule = Offset_Schedule(schedule,'2018-12-27',-1)        #Adam to fast forward Stephi presented early\n",
    "#schedule = Add_Special_Replacement(schedule,'2018-12-06','Rob', 'Lab Tour (Sp.Req)')  #Special Req by Rob\n",
    "#schedule = Mask_Date(schedule,'2018-12-20','2018-12-06',1)  #Rob not to present as he has scheduled a Sp. Req\n",
    "#schedule = Offset_Schedule(schedule,'2018-12-27',-1)        #Adam to fast forward as Rob has presented early\n",
    "#schedule = update_schedule(schedule)  \n",
    "#print(schedule)"
   ]
  },
  {
   "cell_type": "code",
   "execution_count": 3,
   "metadata": {},
   "outputs": [
    {
     "name": "stdout",
     "output_type": "stream",
     "text": [
      "         Date             Topic   Speaker\n",
      "0  2019-02-07       Arxiv Paper    Oliver\n",
      "1  2019-02-14     Order of Mag.    Robert\n",
      "2  2019-02-21  Classical Review     Keven\n",
      "3  2019-02-28       Arxiv Paper  Benjamin\n",
      "4  2019-03-07     Order of Mag.    Maryam\n",
      "5  2019-03-14  Classical Review      Adam\n",
      "6  2019-03-21       Arxiv Paper      Alex\n",
      "7  2019-03-28     Order of Mag.      Matt\n",
      "8  2019-04-04  Classical Review    Oliver\n",
      "9  2019-04-11       Arxiv Paper    Robert\n",
      "10 2019-04-18     Order of Mag.     Keven\n",
      "11 2019-04-25  Classical Review  Benjamin\n",
      "12 2019-05-02       Arxiv Paper    Maryam\n",
      "13 2019-05-09     Order of Mag.      Adam\n",
      "14 2019-05-16  Classical Review      Alex\n",
      "15 2019-05-23       Arxiv Paper      Matt\n",
      "16 2019-05-30     Order of Mag.    Oliver\n",
      "17 2019-06-06  Classical Review    Robert\n",
      "18 2019-06-13       Arxiv Paper     Keven\n",
      "19 2019-06-20     Order of Mag.  Benjamin\n",
      "20 2019-06-27  Classical Review    Maryam\n",
      "21 2019-07-04       Arxiv Paper      Adam\n",
      "22 2019-07-11     Order of Mag.      Alex\n",
      "23 2019-07-18  Classical Review      Matt\n"
     ]
    }
   ],
   "source": [
    "#Editing region 2019\n",
    "\n",
    "schedule = schedule\n",
    "\n",
    "print(schedule)"
   ]
  },
  {
   "cell_type": "code",
   "execution_count": 4,
   "metadata": {},
   "outputs": [],
   "source": [
    "#Run this when schedule is to liking\n",
    "\n",
    "#schedule['Date'] = schedule['Date'].dt.floor('d')\n",
    "schedule.to_csv('updated_schedule.csv')"
   ]
  },
  {
   "cell_type": "code",
   "execution_count": null,
   "metadata": {},
   "outputs": [],
   "source": []
  }
 ],
 "metadata": {
  "kernelspec": {
   "display_name": "Python 3",
   "language": "python",
   "name": "python3"
  },
  "language_info": {
   "codemirror_mode": {
    "name": "ipython",
    "version": 3
   },
   "file_extension": ".py",
   "mimetype": "text/x-python",
   "name": "python",
   "nbconvert_exporter": "python",
   "pygments_lexer": "ipython3",
   "version": "3.7.0"
  }
 },
 "nbformat": 4,
 "nbformat_minor": 2
}
