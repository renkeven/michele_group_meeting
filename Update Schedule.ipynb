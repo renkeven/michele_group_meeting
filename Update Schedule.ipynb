{
 "cells": [
  {
   "cell_type": "code",
   "execution_count": 2,
   "metadata": {},
   "outputs": [],
   "source": [
    "import numpy as np\n",
    "import pandas as pd\n",
    "import datetime\n",
    "from functions import *"
   ]
  },
  {
   "cell_type": "code",
   "execution_count": 3,
   "metadata": {},
   "outputs": [],
   "source": [
    "## Testing Region\n",
    "\n",
    "#Load_Init = pd.read_csv('Initial_Schedule.csv', index_col=0, parse_dates=['Date'])\n",
    "#First_Update = update_schedule(Load_Init)\n",
    "#First_Update.to_csv('updated_schedule.csv')\n",
    "#print Load_Init\n",
    "#print First_Update\n",
    "#First_Update.iloc[3:]\n"
   ]
  },
  {
   "cell_type": "markdown",
   "metadata": {},
   "source": [
    "# Examples:\n",
    "\n",
    "Tip: Keep things simple by updating before making new changes.\n",
    "\n",
    "Offset schedule by 1 week starting on the 30/08/2018.\n",
    "\n",
    " > Offset_Schedule(schedule,pd.to_datetime('2018-8-30'),1)\n",
    " \n",
    "Change date of meeting to Mondays ('0')\n",
    "\n",
    "> DoW_Schedule(schedule,0)"
   ]
  },
  {
   "cell_type": "code",
   "execution_count": 6,
   "metadata": {},
   "outputs": [
    {
     "name": "stdout",
     "output_type": "stream",
     "text": [
      "         Date             Topic   Speaker\n",
      "0  2020-10-01       Arxiv Paper       Tom\n",
      "1  2020-10-08     Order of Mag.      Alex\n",
      "2  2020-10-15  Classical Review     Nicha\n",
      "3  2020-10-22       Arxiv Paper     James\n",
      "4  2020-10-29     Order of Mag.  Benjamin\n",
      "5  2020-11-05  Classical Review      Brad\n",
      "6  2020-11-12       Arxiv Paper    Oliver\n",
      "7  2020-11-19     Order of Mag.     Keven\n",
      "8  2020-11-26  Classical Review      Balu\n",
      "9  2020-12-03       Arxiv Paper     Hilmi\n",
      "10 2020-12-10     Order of Mag.      Matt\n",
      "11 2020-12-17  Classical Review       Tom\n",
      "12 2020-12-24       Arxiv Paper      Alex\n",
      "13 2020-12-31     Order of Mag.     Nicha\n",
      "14 2021-01-07  Classical Review     James\n",
      "15 2021-01-14       Arxiv Paper  Benjamin\n",
      "16 2021-01-21     Order of Mag.      Brad\n",
      "17 2021-01-28  Classical Review    Oliver\n",
      "18 2021-02-04       Arxiv Paper     Keven\n",
      "19 2021-02-11     Order of Mag.      Balu\n",
      "20 2021-02-18  Classical Review     Hilmi\n",
      "21 2021-02-25       Arxiv Paper      Matt\n",
      "22 2021-03-04     Order of Mag.       Tom\n",
      "23 2021-03-11  Classical Review      Alex\n",
      "24 2021-03-18       Arxiv Paper     Nicha\n",
      "25 2021-03-25     Order of Mag.     James\n",
      "26 2021-04-01  Classical Review  Benjamin\n",
      "27 2021-04-08       Arxiv Paper      Brad\n",
      "28 2021-04-15     Order of Mag.    Oliver\n",
      "29 2021-04-22  Classical Review     Keven\n",
      "30 2021-04-29       Arxiv Paper      Balu\n",
      "31 2021-05-06     Order of Mag.     Hilmi\n",
      "32 2021-05-13  Classical Review      Matt\n"
     ]
    }
   ],
   "source": [
    "#Initial Schedule\n",
    "#Refresh at start of new year when current day > 2018-12-27\n",
    "\n",
    "schedule = pd.read_csv('Initial_Schedule_CombinedGroupMeeting.csv', index_col=0, parse_dates=['Date'])\n",
    "schedule.reset_index(level=0, inplace=True)\n",
    "print(schedule)"
   ]
  },
  {
   "cell_type": "code",
   "execution_count": 24,
   "metadata": {},
   "outputs": [],
   "source": [
    "#Editing region 2018\n",
    "\n",
    "#schedule = DoW_Schedule(schedule,4)                     #Schedule moved to Fridays 10AM                \n",
    "#schedule = Offset_Schedule(schedule,'2018-09-28',1)     #Offsetting the Grand Final Public Holiday\n",
    "#schedule = Offset_Schedule(schedule,'2018-10-05',1)     #Offsetting for the Monthly Astro3D meeting\n",
    "#schedule = DoW_Schedule(schedule,3)                     #Schedule changed back to Thursday 1:30PM\n",
    "#schedule = Add_Special_Replacement(schedule,'2018-10-25','Stephi','Paper (Sp.Request)')      #Special Req by Stephi\n",
    "#schedule = Offset_Schedule(schedule,'2018-11-01',1)     #Offsetting as Michele is away\n",
    "#schedule = Offset_Schedule(schedule,'2018-11-08',1)     #Offsetting due to Master Student Talks\n",
    "#schedule = Offset_Schedule(schedule,'2018-11-15',2)     #Offsetting due to Astro3D Retreat and SCICODER Workshop\n",
    "#schedule = Mask_Date(schedule,'2018-12-20','2018-12-06',1)  #Stephi not to present as she has presented by Sp. Req\n",
    "#schedule = Offset_Schedule(schedule,'2018-12-27',-1)        #Adam to fast forward Stephi presented early\n",
    "#schedule = Add_Special_Replacement(schedule,'2018-12-06','Rob', 'Lab Tour (Sp.Req)')  #Special Req by Rob\n",
    "#schedule = Mask_Date(schedule,'2018-12-20','2018-12-06',1)  #Rob not to present as he has scheduled a Sp. Req\n",
    "#schedule = Offset_Schedule(schedule,'2018-12-27',-1)        #Adam to fast forward as Rob has presented early\n",
    "#schedule = update_schedule(schedule)  \n",
    "#print(schedule)"
   ]
  },
  {
   "cell_type": "code",
   "execution_count": 21,
   "metadata": {
    "scrolled": true
   },
   "outputs": [],
   "source": [
    "#Editing region Semester 1 2019\n",
    "\n",
    "#schedule = Add_Special_Replacement(schedule,'2019-02-28', 'Michele', 'OoM (Sp. Req)')    #Special OoM request by Michele\n",
    "#schedule = Offset_Schedule(schedule,'2019-03-14',1)         #Offsetting due to Colloquium\n",
    "#schedule = Add_Special_Replacement(schedule,'2019-03-21', 'Robert', 'Arxiv (Sp.)', offset=False) #Rob standing in\n",
    "#schedule = Mask_Date(schedule,'2019-04-04','2019-03-21',1)  #Removing Rob from next speaking due to standing in\n",
    "#schedule = Add_Special_Replacement(schedule,'2019-03-28', 'Ruggero', 'Completion Prac.', offset=True) #Ruggero to dry run his completion talk\n",
    "#schedule = Offset_Schedule(schedule,'2019-04-18',-1)  #Matt to fast forward as Rob has presented early\n",
    "#schedule = Offset_Schedule(schedule,'2019-04-25',1)   #ANZAC Day\n",
    "#schedule = Offset_Schedule(schedule,'2019-05-02',1)   #Requested Mid-Sem Holiday Break\n",
    "#schedule = Offset_Schedule(schedule,'2019-05-23',1)   #Astro3D Science Meeting\n",
    "\n",
    "\n",
    "### Fixing Available Dates\n",
    "#schedule = Add_Special_Replacement(schedule,'2019-05-30', 'Maryam', 'Own work (Sp. Req)', offset=True)\n",
    "#schedule = Mask_Date(schedule,'2019-06-27','2019-05-30',1)\n",
    "#schedule = Offset_Schedule(schedule,'2019-07-04',-1)\n",
    "\n",
    "#schedule = Add_Special_Replacement(schedule,'2019-07-18', 'Maryam', 'Paper (Sp.)', offset=True)\n",
    "#schedule = Mask_Date(schedule,'2019-08-15','2019-07-18',1)\n",
    "#schedule = Offset_Schedule(schedule,'2019-08-22',-1)\n",
    "###\n",
    "\n",
    "#schedule = update_schedule(schedule) \n",
    "#print(schedule)"
   ]
  },
  {
   "cell_type": "code",
   "execution_count": 3,
   "metadata": {},
   "outputs": [],
   "source": [
    "#Editing region Semester 2 2019\n",
    "\n",
    "#schedule = Offset_Schedule(schedule,'2019-08-08',1)\n",
    "#schedule = Add_Special_Replacement(schedule,'2019-08-08', 'Oliver', 'CP (changed)')\n",
    "#schedule = Mask_Date(schedule,'2019-08-22','2019-08-08',1)#Oliver to switch with Alex\n",
    "#schedule = Offset_Schedule(schedule,'2019-08-29',-1)      #Move dates forward as Ollie changed\n",
    "#schedule = Offset_Schedule(schedule,'2019-08-15',4)       #Unfortunate series of missed meetings\n",
    "#schedule = Offset_Schedule(schedule,'2019-09-26',2)       #Grand Final Day + ASTRO3D Meeting\n",
    "#schedule = Offset_Schedule(schedule,'2019-10-31',3)       #Masters Talk + A3D Retreat + Many little delays\n",
    "\n",
    "#schedule= update_schedule(schedule)\n",
    "#print(schedule)"
   ]
  },
  {
   "cell_type": "code",
   "execution_count": 3,
   "metadata": {},
   "outputs": [],
   "source": [
    "#Editing region Semester 1 2020\n",
    "\n",
    "#When Astro3D releases monthly schedule - we'll add it in\n",
    "\n",
    "#schedule= update_schedule(schedule)\n",
    "#print(schedule)"
   ]
  },
  {
   "cell_type": "code",
   "execution_count": 12,
   "metadata": {},
   "outputs": [
    {
     "name": "stdout",
     "output_type": "stream",
     "text": [
      "         Date             Topic   Speaker\n",
      "0  2020-07-31  Classical Review    Oliver\n",
      "1  2020-08-07     Order of Mag.       Tom\n",
      "2  2020-08-14       Arxiv Paper      Alex\n",
      "3  2020-08-21  Classical Review  Benjamin\n",
      "4  2020-08-28     Order of Mag.     Nicha\n",
      "5  2020-09-04       Arxiv Paper     Keven\n",
      "6  2020-09-11  Classical Review      Matt\n",
      "7  2020-09-18     Order of Mag.    Oliver\n",
      "8  2020-09-25       Arxiv Paper       Tom\n",
      "9  2020-10-02  Classical Review      Alex\n",
      "10 2020-10-09     Order of Mag.  Benjamin\n",
      "11 2020-10-16       Arxiv Paper     Nicha\n",
      "12 2020-10-23  Classical Review     Keven\n",
      "13 2020-10-30     Order of Mag.      Matt\n",
      "14 2020-11-06       Arxiv Paper    Oliver\n",
      "15 2020-11-13  Classical Review       Tom\n",
      "16 2020-11-20     Order of Mag.      Alex\n",
      "17 2020-11-27       Arxiv Paper  Benjamin\n",
      "18 2020-12-04  Classical Review     Nicha\n",
      "19 2020-12-11     Order of Mag.     Keven\n",
      "20 2020-12-18       Arxiv Paper      Matt\n"
     ]
    },
    {
     "name": "stderr",
     "output_type": "stream",
     "text": [
      "/Users/keven/GoogleDrive/GroupMeeting/functions.py:29: FutureWarning: The pandas.datetime class is deprecated and will be removed from pandas in a future version. Import from datetime module instead.\n",
      "  if Start_Schedule_Date > pd.Timestamp(pd.datetime.now().date()):\n"
     ]
    }
   ],
   "source": [
    "#Editing region Semester 2 2020\n",
    "\n",
    "#Work from home. No edits to schedule.\n",
    "\n",
    "#schedule = update_schedule(schedule)\n",
    "#print(schedule)"
   ]
  },
  {
   "cell_type": "code",
   "execution_count": 7,
   "metadata": {},
   "outputs": [
    {
     "name": "stdout",
     "output_type": "stream",
     "text": [
      "         Date             Topic   Speaker\n",
      "0  2020-10-28  MSc Presentation       Tom\n",
      "1  2020-11-04     Order of Mag.  Benjamin\n",
      "2  2020-11-11  Classical Review    Oliver\n",
      "3  2020-11-18       Arxiv Paper     Keven\n",
      "4  2020-11-25     Order of Mag.      Balu\n",
      "5  2020-12-02  Classical Review      Brad\n",
      "6  2020-12-09       Arxiv Paper     Hilmi\n",
      "7  2020-12-16     Order of Mag.      Matt\n",
      "8  2020-12-23  Classical Review      Alex\n",
      "9  2020-12-30       Arxiv Paper     Nicha\n",
      "10 2021-01-06     Order of Mag.     James\n",
      "11 2021-01-13  Classical Review  Benjamin\n",
      "12 2021-01-20       Arxiv Paper      Brad\n",
      "13 2021-01-27     Order of Mag.    Oliver\n",
      "14 2021-02-03  Classical Review     Keven\n",
      "15 2021-02-10       Arxiv Paper      Balu\n",
      "16 2021-02-17     Order of Mag.     Hilmi\n",
      "17 2021-02-24  Classical Review      Matt\n",
      "18 2021-03-03       Arxiv Paper       Tom\n",
      "19 2021-03-10     Order of Mag.      Alex\n",
      "20 2021-03-17  Classical Review     Nicha\n",
      "21 2021-03-24       Arxiv Paper     James\n",
      "22 2021-03-31     Order of Mag.  Benjamin\n",
      "23 2021-04-07  Classical Review      Brad\n",
      "24 2021-04-14       Arxiv Paper    Oliver\n",
      "25 2021-04-21     Order of Mag.     Keven\n",
      "26 2021-04-28  Classical Review      Balu\n",
      "27 2021-05-05       Arxiv Paper     Hilmi\n",
      "28 2021-05-12     Order of Mag.      Matt\n",
      "29 2021-05-19       Arxiv Paper       Tom\n",
      "30 2021-05-26     Order of Mag.      Alex\n",
      "31 2021-06-02  Classical Review     Nicha\n",
      "32 2021-06-09       Arxiv Paper     James\n"
     ]
    },
    {
     "name": "stderr",
     "output_type": "stream",
     "text": [
      "/Users/keven/GoogleDrive/GroupMeeting/functions.py:136: FutureWarning: The pandas.datetime class is deprecated and will be removed from pandas in a future version. Import from datetime module instead.\n",
      "  if date_move > pd.Timestamp(pd.datetime.now().date()):\n",
      "/Users/keven/GoogleDrive/GroupMeeting/functions.py:29: FutureWarning: The pandas.datetime class is deprecated and will be removed from pandas in a future version. Import from datetime module instead.\n",
      "  if Start_Schedule_Date >= pd.Timestamp(pd.datetime.now().date()):\n",
      "/Users/keven/GoogleDrive/GroupMeeting/functions.py:35: FutureWarning: The pandas.datetime class is deprecated and will be removed from pandas in a future version. Import from datetime module instead.\n",
      "  (schedule['Date'] < pd.Timestamp(pd.datetime.now().date())))]\n",
      "/Users/keven/GoogleDrive/GroupMeeting/functions.py:38: FutureWarning: The pandas.datetime class is deprecated and will be removed from pandas in a future version. Import from datetime module instead.\n",
      "  Start_Today_Periods = len(schedule[schedule['Date'] < pd.Timestamp(pd.datetime.now().date())])\n",
      "/Users/keven/GoogleDrive/GroupMeeting/functions.py:40: FutureWarning: The pandas.datetime class is deprecated and will be removed from pandas in a future version. Import from datetime module instead.\n",
      "  New_Schedule = schedule[schedule['Date'] >= pd.Timestamp(pd.datetime.now().date())].append(schedule[schedule['Date'] < pd.Timestamp(pd.datetime.now().date())])\n"
     ]
    }
   ],
   "source": [
    "#Editing Region Semester 2 2020 (Combined Group Meeting)\n",
    "\n",
    "#online Zoom ed.\n",
    "\n",
    "schedule = DoW_Schedule(schedule,2)\n",
    "schedule = Add_Special_Replacement(schedule,'2020-10-28', 'Tom', 'MSc Presentation') #Tom Completion Talk\n",
    "schedule = Mask_Date(schedule,'2020-12-23','2020-10-28',1, preserve_order=True)    #Tom to not present on 16/12 as moved to 28/10, preserve speaking order though\n",
    "schedule = Offset_Schedule(schedule,'2020-12-30',-1)          #offset schedule as Tom moved\n",
    "schedule = MoveSpeaker(schedule, '2020-11-11', '2020-12-02')  #brad time change\n",
    "schedule = update_schedule(schedule)\n",
    "\n",
    "print(schedule)"
   ]
  },
  {
   "cell_type": "code",
   "execution_count": 8,
   "metadata": {},
   "outputs": [],
   "source": [
    "#Run this when schedule is to liking\n",
    "#schedule['Date'] = schedule['Date'].dt.floor('d')\n",
    "\n",
    "schedule.to_csv('updated_schedule.csv')"
   ]
  },
  {
   "cell_type": "code",
   "execution_count": 5,
   "metadata": {},
   "outputs": [
    {
     "name": "stdout",
     "output_type": "stream",
     "text": [
      "         Date             Topic   Speaker\n",
      "0  2020-10-01       Arxiv Paper       Tom\n",
      "1  2020-10-08  Classical Review      Alex\n",
      "2  2020-10-15     Order of Mag.     Nicha\n",
      "3  2020-10-22       Arxiv Paper     James\n",
      "4  2020-10-29  Classical Review  Benjamin\n",
      "5  2020-11-05     Order of Mag.      Brad\n",
      "6  2020-11-12       Arxiv Paper    Oliver\n",
      "7  2020-11-19  Classical Review     Keven\n",
      "8  2020-11-26     Order of Mag.      Balu\n",
      "9  2020-12-03       Arxiv Paper     Hilmi\n",
      "10 2020-12-10  Classical Review      Matt\n",
      "11 2020-12-17     Order of Mag.       Tom\n",
      "12 2020-12-24       Arxiv Paper      Alex\n",
      "13 2020-12-31  Classical Review     Nicha\n",
      "14 2021-01-07     Order of Mag.     James\n",
      "15 2021-01-14       Arxiv Paper  Benjamin\n",
      "16 2021-01-21  Classical Review      Brad\n",
      "17 2021-01-28     Order of Mag.    Oliver\n",
      "18 2021-02-04       Arxiv Paper     Keven\n",
      "19 2021-02-11  Classical Review      Balu\n",
      "20 2021-02-18     Order of Mag.     Hilmi\n",
      "21 2021-02-25       Arxiv Paper      Matt\n",
      "22 2021-03-04  Classical Review       Tom\n",
      "23 2021-03-11     Order of Mag.      Alex\n",
      "24 2021-03-18       Arxiv Paper     Nicha\n",
      "25 2021-03-25  Classical Review     James\n",
      "26 2021-04-01     Order of Mag.  Benjamin\n",
      "27 2021-04-08       Arxiv Paper      Brad\n",
      "28 2021-04-15  Classical Review    Oliver\n",
      "29 2021-04-22     Order of Mag.     Keven\n",
      "30 2021-04-29       Arxiv Paper      Balu\n",
      "31 2021-05-06  Classical Review     Hilmi\n",
      "32 2021-05-13     Order of Mag.      Matt\n"
     ]
    }
   ],
   "source": [
    "schedule = schedule.sort_values('Date')\n",
    "\n",
    "print(schedule)"
   ]
  },
  {
   "cell_type": "code",
   "execution_count": 11,
   "metadata": {},
   "outputs": [
    {
     "name": "stdout",
     "output_type": "stream",
     "text": [
      "11       Order of Mag.\n",
      "12    Classical Review\n",
      "13         Arxiv Paper\n",
      "14       Order of Mag.\n",
      "15    Classical Review\n",
      "16         Arxiv Paper\n",
      "17       Order of Mag.\n",
      "18    Classical Review\n",
      "19         Arxiv Paper\n",
      "20       Order of Mag.\n",
      "21    Classical Review\n",
      "22         Arxiv Paper\n",
      "23       Order of Mag.\n",
      "24    Classical Review\n",
      "25         Arxiv Paper\n",
      "26       Order of Mag.\n",
      "27    Classical Review\n",
      "28         Arxiv Paper\n",
      "29       Order of Mag.\n",
      "30    Classical Review\n",
      "31         Arxiv Paper\n",
      "32       Order of Mag.\n",
      "Name: Topic, dtype: object\n"
     ]
    }
   ],
   "source": [
    "topic_range = schedule.iloc[schedule[(schedule['Date']=='2020-12-16')].index[0]:,schedule.columns.get_loc('Topic')]\n",
    "\n",
    "print(topic_range[:-1])"
   ]
  },
  {
   "cell_type": "code",
   "execution_count": null,
   "metadata": {},
   "outputs": [],
   "source": []
  }
 ],
 "metadata": {
  "kernelspec": {
   "display_name": "Python 3",
   "language": "python",
   "name": "python3"
  },
  "language_info": {
   "codemirror_mode": {
    "name": "ipython",
    "version": 3
   },
   "file_extension": ".py",
   "mimetype": "text/x-python",
   "name": "python",
   "nbconvert_exporter": "python",
   "pygments_lexer": "ipython3",
   "version": "3.7.0"
  }
 },
 "nbformat": 4,
 "nbformat_minor": 2
}
